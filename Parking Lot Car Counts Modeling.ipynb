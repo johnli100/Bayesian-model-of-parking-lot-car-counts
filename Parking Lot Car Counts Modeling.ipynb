{
 "cells": [
  {
   "cell_type": "markdown",
   "metadata": {},
   "source": [
    "# A Bayesian Model for Parking Lot Car Count"
   ]
  },
  {
   "cell_type": "markdown",
   "metadata": {},
   "source": [
    "I collected 4 weeks of data of the number of cars in the parking facing me around 10am every weekday during April, along with the daily weather information. There were 5 missing data points so a total 15 data points for training. In addition, there were 5 data points for testing purpose - the last 5. I built three simple GLM-type Bayesian models, one Bayesian splines model and one Bayesian Additive Regression Trees model to demonstrate the simplicity, flexibility and power of Bayesian data analysis. \n",
    "<div style=\"text-align: center;\">\n",
    "    <img src=\"img/parking lot.jpg\" align=\"center\" width=\"400\" height=\"250\"> \n",
    "</div>\n",
    "\n",
    "The first three simple models seem to do a decent job especially the third one.\n",
    "<div style=\"text-align: center;\">\n",
    "    <img src=\"img/Bayesian posterior predictive.png\" align=\"center\" width=\"400\" height=\"200\"> \n",
    "</div>"
   ]
  },
  {
   "cell_type": "code",
   "execution_count": 1,
   "metadata": {},
   "outputs": [
    {
     "name": "stderr",
     "output_type": "stream",
     "text": [
      "WARNING (theano.tensor.blas): Using NumPy C-API based implementation for BLAS functions.\n"
     ]
    }
   ],
   "source": [
    "import warnings\n",
    "\n",
    "import pandas as pd\n",
    "import numpy as np\n",
    "import pymc3 as pm\n",
    "import arviz as az\n",
    "from patsy import bs, dmatrix\n",
    "import matplotlib.pyplot as plt\n",
    "\n",
    "%matplotlib inline\n",
    "warnings.simplefilter(action=\"ignore\", category=FutureWarning)"
   ]
  },
  {
   "cell_type": "markdown",
   "metadata": {},
   "source": [
    "## Data"
   ]
  },
  {
   "cell_type": "markdown",
   "metadata": {},
   "source": [
    "To capture the weekly \"seasonality\" represented in the data, I created a cycle feature using a Sine function. As well I standarized the temperature data. "
   ]
  },
  {
   "cell_type": "code",
   "execution_count": 2,
   "metadata": {},
   "outputs": [],
   "source": [
    "data = pd.read_excel('car count.xlsx',usecols='A:F', index_col = 0, na_values =['NAN'],\n",
    "                     names=['Date','Day_of_week','Count','Temp_low','Temp_high','Weather'])"
   ]
  },
  {
   "cell_type": "code",
   "execution_count": 3,
   "metadata": {},
   "outputs": [],
   "source": [
    "data.index=data.index.strftime(\"%Y/%m/%d\")\n",
    "data['Cycle'] = np.sin(data['Day_of_week']*np.pi/6)\n",
    "data['Temp_high']=(data['Temp_high']-data['Temp_high'].mean())/data['Temp_high'].std()\n",
    "data['Temp_low']=(data['Temp_low']-data['Temp_low'].mean())/data['Temp_low'].std()"
   ]
  },
  {
   "cell_type": "code",
   "execution_count": 4,
   "metadata": {},
   "outputs": [
    {
     "name": "stdout",
     "output_type": "stream",
     "text": [
      "<class 'pandas.core.frame.DataFrame'>\n",
      "Index: 25 entries, 2022/04/05 to 2022/05/09\n",
      "Data columns (total 6 columns):\n",
      " #   Column       Non-Null Count  Dtype  \n",
      "---  ------       --------------  -----  \n",
      " 0   Day_of_week  25 non-null     int64  \n",
      " 1   Count        15 non-null     float64\n",
      " 2   Temp_low     25 non-null     float64\n",
      " 3   Temp_high    25 non-null     float64\n",
      " 4   Weather      25 non-null     object \n",
      " 5   Cycle        25 non-null     float64\n",
      "dtypes: float64(4), int64(1), object(1)\n",
      "memory usage: 1.4+ KB\n"
     ]
    }
   ],
   "source": [
    "data.info()"
   ]
  },
  {
   "cell_type": "code",
   "execution_count": 5,
   "metadata": {},
   "outputs": [
    {
     "data": {
      "text/html": [
       "<div>\n",
       "<style scoped>\n",
       "    .dataframe tbody tr th:only-of-type {\n",
       "        vertical-align: middle;\n",
       "    }\n",
       "\n",
       "    .dataframe tbody tr th {\n",
       "        vertical-align: top;\n",
       "    }\n",
       "\n",
       "    .dataframe thead th {\n",
       "        text-align: right;\n",
       "    }\n",
       "</style>\n",
       "<table border=\"1\" class=\"dataframe\">\n",
       "  <thead>\n",
       "    <tr style=\"text-align: right;\">\n",
       "      <th></th>\n",
       "      <th>Day_of_week</th>\n",
       "      <th>Count</th>\n",
       "      <th>Temp_low</th>\n",
       "      <th>Temp_high</th>\n",
       "      <th>Weather</th>\n",
       "      <th>Cycle</th>\n",
       "    </tr>\n",
       "    <tr>\n",
       "      <th>Date</th>\n",
       "      <th></th>\n",
       "      <th></th>\n",
       "      <th></th>\n",
       "      <th></th>\n",
       "      <th></th>\n",
       "      <th></th>\n",
       "    </tr>\n",
       "  </thead>\n",
       "  <tbody>\n",
       "    <tr>\n",
       "      <th>2022/04/08</th>\n",
       "      <td>5</td>\n",
       "      <td>68.0</td>\n",
       "      <td>-0.811336</td>\n",
       "      <td>-0.984668</td>\n",
       "      <td>Cloudy</td>\n",
       "      <td>0.500000</td>\n",
       "    </tr>\n",
       "    <tr>\n",
       "      <th>2022/04/11</th>\n",
       "      <td>1</td>\n",
       "      <td>103.0</td>\n",
       "      <td>-0.811336</td>\n",
       "      <td>-1.341432</td>\n",
       "      <td>Sunny</td>\n",
       "      <td>0.500000</td>\n",
       "    </tr>\n",
       "    <tr>\n",
       "      <th>2022/04/26</th>\n",
       "      <td>2</td>\n",
       "      <td>200.0</td>\n",
       "      <td>0.824422</td>\n",
       "      <td>0.442387</td>\n",
       "      <td>Cloudy</td>\n",
       "      <td>0.866025</td>\n",
       "    </tr>\n",
       "    <tr>\n",
       "      <th>2022/05/05</th>\n",
       "      <td>4</td>\n",
       "      <td>NaN</td>\n",
       "      <td>1.478725</td>\n",
       "      <td>1.155915</td>\n",
       "      <td>Sunny</td>\n",
       "      <td>0.866025</td>\n",
       "    </tr>\n",
       "    <tr>\n",
       "      <th>2022/05/02</th>\n",
       "      <td>1</td>\n",
       "      <td>104.0</td>\n",
       "      <td>0.170119</td>\n",
       "      <td>-0.271141</td>\n",
       "      <td>Cloudy</td>\n",
       "      <td>0.500000</td>\n",
       "    </tr>\n",
       "    <tr>\n",
       "      <th>2022/04/06</th>\n",
       "      <td>3</td>\n",
       "      <td>204.0</td>\n",
       "      <td>0.170119</td>\n",
       "      <td>-0.271141</td>\n",
       "      <td>Sunny</td>\n",
       "      <td>1.000000</td>\n",
       "    </tr>\n",
       "    <tr>\n",
       "      <th>2022/04/14</th>\n",
       "      <td>4</td>\n",
       "      <td>140.0</td>\n",
       "      <td>0.824422</td>\n",
       "      <td>1.155915</td>\n",
       "      <td>Cloudy</td>\n",
       "      <td>0.866025</td>\n",
       "    </tr>\n",
       "  </tbody>\n",
       "</table>\n",
       "</div>"
      ],
      "text/plain": [
       "            Day_of_week  Count  Temp_low  Temp_high Weather     Cycle\n",
       "Date                                                                 \n",
       "2022/04/08            5   68.0 -0.811336  -0.984668  Cloudy  0.500000\n",
       "2022/04/11            1  103.0 -0.811336  -1.341432   Sunny  0.500000\n",
       "2022/04/26            2  200.0  0.824422   0.442387  Cloudy  0.866025\n",
       "2022/05/05            4    NaN  1.478725   1.155915   Sunny  0.866025\n",
       "2022/05/02            1  104.0  0.170119  -0.271141  Cloudy  0.500000\n",
       "2022/04/06            3  204.0  0.170119  -0.271141   Sunny  1.000000\n",
       "2022/04/14            4  140.0  0.824422   1.155915  Cloudy  0.866025"
      ]
     },
     "execution_count": 5,
     "metadata": {},
     "output_type": "execute_result"
    }
   ],
   "source": [
    "data.sample(7)"
   ]
  },
  {
   "cell_type": "markdown",
   "metadata": {},
   "source": [
    "The following chart shows the actual car count (15 data points with 5 missing data). I didn't try to impute the missing data but decided to leave it to the Bayesian model to handle this automatically. Finally, the created cycle feature seems to be a reasonable approximation of the weekly \"seasonality\"."
   ]
  },
  {
   "cell_type": "code",
   "execution_count": 6,
   "metadata": {},
   "outputs": [
    {
     "name": "stderr",
     "output_type": "stream",
     "text": [
      "<ipython-input-6-366e6017dfb3>:4: UserWarning: FixedFormatter should only be used together with FixedLocator\n",
      "  ax[0].set_xticklabels(data.index,rotation=90)\n",
      "<ipython-input-6-366e6017dfb3>:7: UserWarning: FixedFormatter should only be used together with FixedLocator\n",
      "  ax[1].set_xticklabels(data.index,rotation=90)\n"
     ]
    },
    {
     "data": {
      "image/png": "[encoded data removed]",
      "text/plain": [
       "<Figure size 720x360 with 2 Axes>"
      ]
     },
     "metadata": {
      "needs_background": "light"
     },
     "output_type": "display_data"
    }
   ],
   "source": [
    "_,ax = plt.subplots(1,2,figsize=(10,5))\n",
    "ax[0].bar(data.index,data['Count'])\n",
    "ax[0].set_title('Actual car count')\n",
    "ax[0].set_xticklabels(data.index,rotation=90)\n",
    "ax[1].plot(data['Cycle'],c='g')\n",
    "ax[1].set_title('Cycle feature')\n",
    "ax[1].set_xticklabels(data.index,rotation=90)\n",
    "plt.show()"
   ]
  },
  {
   "cell_type": "markdown",
   "metadata": {},
   "source": [
    "## Bayesian Modeling"
   ]
  },
  {
   "cell_type": "markdown",
   "metadata": {},
   "source": [
    "#### Model 1 - Poisson model with cycle/seasonality"
   ]
  },
  {
   "cell_type": "markdown",
   "metadata": {},
   "source": [
    "The first model is simply a Poisson distribution with the $\\mu$ (mean) parameter set to a constant plus the cycle feature times its $\\beta$."
   ]
  },
  {
   "cell_type": "code",
   "execution_count": 7,
   "metadata": {},
   "outputs": [
    {
     "name": "stderr",
     "output_type": "stream",
     "text": [
      "/home/john/anaconda3/lib/python3.8/site-packages/pymc3/model.py:1755: ImputationWarning: Data in count contains missing values and will be automatically imputed from the sampling distribution.\n",
      "  warnings.warn(impute_message, ImputationWarning)\n"
     ]
    },
    {
     "data": {
      "image/svg+xml": [
       "<?xml version=\"1.0\" encoding=\"UTF-8\" standalone=\"no\"?>\n",
       "<!DOCTYPE svg PUBLIC \"-//W3C//DTD SVG 1.1//EN\"\n",
       " \"http://www.w3.org/Graphics/SVG/1.1/DTD/svg11.dtd\">\n",
       "<!-- Generated by graphviz version 2.43.0 (0)\n",
       " -->\n",
       "<!-- Title: %3 Pages: 1 -->\n",
       "<svg width=\"398pt\" height=\"347pt\"\n",
       " viewBox=\"0.00 0.00 398.50 346.86\" xmlns=\"http://www.w3.org/2000/svg\" xmlns:xlink=\"http://www.w3.org/1999/xlink\">\n",
       "<g id=\"graph0\" class=\"graph\" transform=\"scale(1 1) rotate(0) translate(4 342.86)\">\n",
       "<title>%3</title>\n",
       "<polygon fill=\"white\" stroke=\"transparent\" points=\"-4,4 -4,-342.86 394.5,-342.86 394.5,4 -4,4\"/>\n",
       "<g id=\"clust1\" class=\"cluster\">\n",
       "<title>cluster25</title>\n",
       "<path fill=\"none\" stroke=\"black\" d=\"M66.5,-8C66.5,-8 172.5,-8 172.5,-8 178.5,-8 184.5,-14 184.5,-20 184.5,-20 184.5,-212.93 184.5,-212.93 184.5,-218.93 178.5,-224.93 172.5,-224.93 172.5,-224.93 66.5,-224.93 66.5,-224.93 60.5,-224.93 54.5,-218.93 54.5,-212.93 54.5,-212.93 54.5,-20 54.5,-20 54.5,-14 60.5,-8 66.5,-8\"/>\n",
       "<text text-anchor=\"middle\" x=\"167\" y=\"-15.8\" font-family=\"Times,serif\" font-size=\"14.00\">25</text>\n",
       "</g>\n",
       "<g id=\"clust2\" class=\"cluster\">\n",
       "<title>cluster10</title>\n",
       "<path fill=\"none\" stroke=\"black\" d=\"M204.5,-121.95C204.5,-121.95 370.5,-121.95 370.5,-121.95 376.5,-121.95 382.5,-127.95 382.5,-133.95 382.5,-133.95 382.5,-223.91 382.5,-223.91 382.5,-229.91 376.5,-235.91 370.5,-235.91 370.5,-235.91 204.5,-235.91 204.5,-235.91 198.5,-235.91 192.5,-229.91 192.5,-223.91 192.5,-223.91 192.5,-133.95 192.5,-133.95 192.5,-127.95 198.5,-121.95 204.5,-121.95\"/>\n",
       "<text text-anchor=\"middle\" x=\"365\" y=\"-129.75\" font-family=\"Times,serif\" font-size=\"14.00\">10</text>\n",
       "</g>\n",
       "<!-- 𝛽 -->\n",
       "<g id=\"node1\" class=\"node\">\n",
       "<title>𝛽</title>\n",
       "<ellipse fill=\"none\" stroke=\"black\" cx=\"49.5\" cy=\"-301.38\" rx=\"49.49\" ry=\"37.45\"/>\n",
       "<text text-anchor=\"middle\" x=\"49.5\" y=\"-312.68\" font-family=\"Times,serif\" font-size=\"14.00\">𝛽</text>\n",
       "<text text-anchor=\"middle\" x=\"49.5\" y=\"-297.68\" font-family=\"Times,serif\" font-size=\"14.00\">~</text>\n",
       "<text text-anchor=\"middle\" x=\"49.5\" y=\"-282.68\" font-family=\"Times,serif\" font-size=\"14.00\">Normal</text>\n",
       "</g>\n",
       "<!-- 𝜇 -->\n",
       "<g id=\"node4\" class=\"node\">\n",
       "<title>𝜇</title>\n",
       "<polygon fill=\"none\" stroke=\"black\" points=\"176.5,-216.93 62.5,-216.93 62.5,-163.93 176.5,-163.93 176.5,-216.93\"/>\n",
       "<text text-anchor=\"middle\" x=\"119.5\" y=\"-201.73\" font-family=\"Times,serif\" font-size=\"14.00\">𝜇</text>\n",
       "<text text-anchor=\"middle\" x=\"119.5\" y=\"-186.73\" font-family=\"Times,serif\" font-size=\"14.00\">~</text>\n",
       "<text text-anchor=\"middle\" x=\"119.5\" y=\"-171.73\" font-family=\"Times,serif\" font-size=\"14.00\">Deterministic</text>\n",
       "</g>\n",
       "<!-- 𝛽&#45;&gt;𝜇 -->\n",
       "<g id=\"edge1\" class=\"edge\">\n",
       "<title>𝛽&#45;&gt;𝜇</title>\n",
       "<path fill=\"none\" stroke=\"black\" d=\"M70.69,-267.4C79.21,-254.14 89.02,-238.87 97.61,-225.5\"/>\n",
       "<polygon fill=\"black\" stroke=\"black\" points=\"100.58,-227.34 103.04,-217.04 94.69,-223.56 100.58,-227.34\"/>\n",
       "</g>\n",
       "<!-- 𝛼 -->\n",
       "<g id=\"node2\" class=\"node\">\n",
       "<title>𝛼</title>\n",
       "<ellipse fill=\"none\" stroke=\"black\" cx=\"189.5\" cy=\"-301.38\" rx=\"72.25\" ry=\"37.45\"/>\n",
       "<text text-anchor=\"middle\" x=\"189.5\" y=\"-312.68\" font-family=\"Times,serif\" font-size=\"14.00\">𝛼</text>\n",
       "<text text-anchor=\"middle\" x=\"189.5\" y=\"-297.68\" font-family=\"Times,serif\" font-size=\"14.00\">~</text>\n",
       "<text text-anchor=\"middle\" x=\"189.5\" y=\"-282.68\" font-family=\"Times,serif\" font-size=\"14.00\">Exponential</text>\n",
       "</g>\n",
       "<!-- 𝛼&#45;&gt;𝜇 -->\n",
       "<g id=\"edge2\" class=\"edge\">\n",
       "<title>𝛼&#45;&gt;𝜇</title>\n",
       "<path fill=\"none\" stroke=\"black\" d=\"M167.16,-265.61C158.96,-252.86 149.7,-238.44 141.54,-225.73\"/>\n",
       "<polygon fill=\"black\" stroke=\"black\" points=\"144.44,-223.77 136.09,-217.25 138.55,-227.55 144.44,-223.77\"/>\n",
       "</g>\n",
       "<!-- count -->\n",
       "<g id=\"node3\" class=\"node\">\n",
       "<title>count</title>\n",
       "<ellipse fill=\"lightgrey\" stroke=\"black\" cx=\"122.5\" cy=\"-76.48\" rx=\"50.41\" ry=\"37.45\"/>\n",
       "<text text-anchor=\"middle\" x=\"122.5\" y=\"-87.78\" font-family=\"Times,serif\" font-size=\"14.00\">count</text>\n",
       "<text text-anchor=\"middle\" x=\"122.5\" y=\"-72.78\" font-family=\"Times,serif\" font-size=\"14.00\">~</text>\n",
       "<text text-anchor=\"middle\" x=\"122.5\" y=\"-57.78\" font-family=\"Times,serif\" font-size=\"14.00\">Poisson</text>\n",
       "</g>\n",
       "<!-- 𝜇&#45;&gt;count -->\n",
       "<g id=\"edge4\" class=\"edge\">\n",
       "<title>𝜇&#45;&gt;count</title>\n",
       "<path fill=\"none\" stroke=\"black\" d=\"M120.19,-163.75C120.5,-152.02 120.88,-137.75 121.24,-124.22\"/>\n",
       "<polygon fill=\"black\" stroke=\"black\" points=\"124.75,-124.16 121.52,-114.07 117.75,-123.98 124.75,-124.16\"/>\n",
       "</g>\n",
       "<!-- count_missing -->\n",
       "<g id=\"node5\" class=\"node\">\n",
       "<title>count_missing</title>\n",
       "<ellipse fill=\"none\" stroke=\"black\" cx=\"287.5\" cy=\"-190.43\" rx=\"86.95\" ry=\"37.45\"/>\n",
       "<text text-anchor=\"middle\" x=\"287.5\" y=\"-201.73\" font-family=\"Times,serif\" font-size=\"14.00\">count_missing</text>\n",
       "<text text-anchor=\"middle\" x=\"287.5\" y=\"-186.73\" font-family=\"Times,serif\" font-size=\"14.00\">~</text>\n",
       "<text text-anchor=\"middle\" x=\"287.5\" y=\"-171.73\" font-family=\"Times,serif\" font-size=\"14.00\">NoDistribution</text>\n",
       "</g>\n",
       "<!-- count_missing&#45;&gt;count -->\n",
       "<g id=\"edge3\" class=\"edge\">\n",
       "<title>count_missing&#45;&gt;count</title>\n",
       "<path fill=\"none\" stroke=\"black\" d=\"M241.69,-158.14C224.97,-146.73 205.89,-133.74 188.5,-121.95 181.82,-117.43 174.76,-112.66 167.84,-107.98\"/>\n",
       "<polygon fill=\"black\" stroke=\"black\" points=\"169.42,-104.83 159.18,-102.14 165.51,-110.64 169.42,-104.83\"/>\n",
       "</g>\n",
       "</g>\n",
       "</svg>\n"
      ],
      "text/plain": [
       "<graphviz.graphs.Digraph at 0x7fa29f011fa0>"
      ]
     },
     "execution_count": 7,
     "metadata": {},
     "output_type": "execute_result"
    }
   ],
   "source": [
    "with pm.Model() as m1:\n",
    "    𝛼 = pm.Exponential('𝛼',5.)\n",
    "    𝛽 = pm.Normal('𝛽',0.,5.)\n",
    "    𝜇 = pm.Deterministic('𝜇',pm.math.exp(𝛼 + 𝛽 * data['Cycle']))\n",
    "    \n",
    "    count = pm.Poisson('count',𝜇, observed = data['Count'])\n",
    "    \n",
    "pm.model_graph.model_to_graphviz(m1)"
   ]
  },
  {
   "cell_type": "code",
   "execution_count": 8,
   "metadata": {},
   "outputs": [
    {
     "name": "stderr",
     "output_type": "stream",
     "text": [
      "Multiprocess sampling (4 chains in 4 jobs)\n",
      "CompoundStep\n",
      ">NUTS: [𝛽, 𝛼]\n",
      ">Metropolis: [count_missing]\n"
     ]
    },
    {
     "data": {
      "text/html": [
       "\n",
       "    <div>\n",
       "        <style>\n",
       "            /* Turns off some styling */\n",
       "            progress {\n",
       "                /* gets rid of default border in Firefox and Opera. */\n",
       "                border: none;\n",
       "                /* Needs to be in here for Safari polyfill so background images work as expected. */\n",
       "                background-size: auto;\n",
       "            }\n",
       "            .progress-bar-interrupted, .progress-bar-interrupted::-webkit-progress-bar {\n",
       "                background: #F44336;\n",
       "            }\n",
       "        </style>\n",
       "      <progress value='60000' class='' max='60000' style='width:300px; height:20px; vertical-align: middle;'></progress>\n",
       "      100.00% [60000/60000 00:14<00:00 Sampling 4 chains, 0 divergences]\n",
       "    </div>\n",
       "    "
      ],
      "text/plain": [
       "<IPython.core.display.HTML object>"
      ]
     },
     "metadata": {},
     "output_type": "display_data"
    },
    {
     "name": "stderr",
     "output_type": "stream",
     "text": [
      "Sampling 4 chains for 5_000 tune and 10_000 draw iterations (20_000 + 40_000 draws total) took 15 seconds.\n",
      "The number of effective samples is smaller than 10% for some parameters.\n"
     ]
    }
   ],
   "source": [
    "with m1:\n",
    "    trace1 = pm.sample(10000,tune=5000)"
   ]
  },
  {
   "cell_type": "markdown",
   "metadata": {},
   "source": [
    "As the warning message shown above the sampling is not necessary very efficent. However the parameter estimation still seems to be reasonable (r_hat close to 1.0 etc.)."
   ]
  },
  {
   "cell_type": "code",
   "execution_count": 9,
   "metadata": {},
   "outputs": [
    {
     "data": {
      "text/html": [
       "<div>\n",
       "<style scoped>\n",
       "    .dataframe tbody tr th:only-of-type {\n",
       "        vertical-align: middle;\n",
       "    }\n",
       "\n",
       "    .dataframe tbody tr th {\n",
       "        vertical-align: top;\n",
       "    }\n",
       "\n",
       "    .dataframe thead th {\n",
       "        text-align: right;\n",
       "    }\n",
       "</style>\n",
       "<table border=\"1\" class=\"dataframe\">\n",
       "  <thead>\n",
       "    <tr style=\"text-align: right;\">\n",
       "      <th></th>\n",
       "      <th>mean</th>\n",
       "      <th>sd</th>\n",
       "      <th>hdi_3%</th>\n",
       "      <th>hdi_97%</th>\n",
       "      <th>mcse_mean</th>\n",
       "      <th>mcse_sd</th>\n",
       "      <th>ess_mean</th>\n",
       "      <th>ess_sd</th>\n",
       "      <th>ess_bulk</th>\n",
       "      <th>ess_tail</th>\n",
       "      <th>r_hat</th>\n",
       "    </tr>\n",
       "  </thead>\n",
       "  <tbody>\n",
       "    <tr>\n",
       "      <th>𝛼</th>\n",
       "      <td>3.763</td>\n",
       "      <td>0.092</td>\n",
       "      <td>3.585</td>\n",
       "      <td>3.929</td>\n",
       "      <td>0.002</td>\n",
       "      <td>0.002</td>\n",
       "      <td>1531.0</td>\n",
       "      <td>1525.0</td>\n",
       "      <td>1532.0</td>\n",
       "      <td>3325.0</td>\n",
       "      <td>1.0</td>\n",
       "    </tr>\n",
       "    <tr>\n",
       "      <th>𝛽</th>\n",
       "      <td>1.513</td>\n",
       "      <td>0.109</td>\n",
       "      <td>1.308</td>\n",
       "      <td>1.716</td>\n",
       "      <td>0.003</td>\n",
       "      <td>0.002</td>\n",
       "      <td>1569.0</td>\n",
       "      <td>1569.0</td>\n",
       "      <td>1569.0</td>\n",
       "      <td>3683.0</td>\n",
       "      <td>1.0</td>\n",
       "    </tr>\n",
       "  </tbody>\n",
       "</table>\n",
       "</div>"
      ],
      "text/plain": [
       "    mean     sd  hdi_3%  hdi_97%  mcse_mean  mcse_sd  ess_mean  ess_sd  \\\n",
       "𝛼  3.763  0.092   3.585    3.929      0.002    0.002    1531.0  1525.0   \n",
       "𝛽  1.513  0.109   1.308    1.716      0.003    0.002    1569.0  1569.0   \n",
       "\n",
       "   ess_bulk  ess_tail  r_hat  \n",
       "𝛼    1532.0    3325.0    1.0  \n",
       "𝛽    1569.0    3683.0    1.0  "
      ]
     },
     "execution_count": 9,
     "metadata": {},
     "output_type": "execute_result"
    }
   ],
   "source": [
    "az.summary(trace1,var_names=['𝛼','𝛽'])"
   ]
  },
  {
   "cell_type": "markdown",
   "metadata": {},
   "source": [
    "As a key validation of the model, I checked the prior predictive distribution. The prior predictions appear to be reasonable - wide enough compared to the actual but not excessively so. However, the posterior predictions (encompassed by 3th percentile to 97th percentile) appear to be too narrow to cover the actual data. "
   ]
  },
  {
   "cell_type": "code",
   "execution_count": 10,
   "metadata": {},
   "outputs": [
    {
     "data": {
      "text/html": [
       "\n",
       "    <div>\n",
       "        <style>\n",
       "            /* Turns off some styling */\n",
       "            progress {\n",
       "                /* gets rid of default border in Firefox and Opera. */\n",
       "                border: none;\n",
       "                /* Needs to be in here for Safari polyfill so background images work as expected. */\n",
       "                background-size: auto;\n",
       "            }\n",
       "            .progress-bar-interrupted, .progress-bar-interrupted::-webkit-progress-bar {\n",
       "                background: #F44336;\n",
       "            }\n",
       "        </style>\n",
       "      <progress value='40000' class='' max='40000' style='width:300px; height:20px; vertical-align: middle;'></progress>\n",
       "      100.00% [40000/40000 00:18<00:00]\n",
       "    </div>\n",
       "    "
      ],
      "text/plain": [
       "<IPython.core.display.HTML object>"
      ]
     },
     "metadata": {},
     "output_type": "display_data"
    }
   ],
   "source": [
    "with m1:\n",
    "    prior_m1 = pm.sample_prior_predictive()\n",
    "    post_m1 = pm.sample_posterior_predictive(trace1,var_names=['count'])    "
   ]
  },
  {
   "cell_type": "code",
   "execution_count": 11,
   "metadata": {},
   "outputs": [
    {
     "name": "stderr",
     "output_type": "stream",
     "text": [
      "<ipython-input-11-c74c22409e03>:4: UserWarning: FixedFormatter should only be used together with FixedLocator\n",
      "  ax[0].set_xticklabels(data.index,rotation=90)\n",
      "<ipython-input-11-c74c22409e03>:9: UserWarning: FixedFormatter should only be used together with FixedLocator\n",
      "  ax[1].set_xticklabels(data.index,rotation=90)\n"
     ]
    },
    {
     "data": {
      "image/png": "[encoded data removed]",
      "text/plain": [
       "<Figure size 1080x360 with 2 Axes>"
      ]
     },
     "metadata": {
      "needs_background": "light"
     },
     "output_type": "display_data"
    }
   ],
   "source": [
    "_,ax = plt.subplots(1,2,figsize=(15,5))\n",
    "az.plot_hdi(range(len(data)),prior_m1['count'],ax=ax[0])\n",
    "ax[0].bar(data.index,data['Count'])\n",
    "ax[0].set_xticklabels(data.index,rotation=90)\n",
    "ax[0].set_title('Actual vs. Prior predictive')\n",
    "\n",
    "az.plot_hdi(range(len(data)),post_m1['count'],ax=ax[1])\n",
    "ax[1].bar(data.index,data['Count'])\n",
    "ax[1].set_xticklabels(data.index,rotation=90)\n",
    "ax[1].set_title('Actual vs. Posterior predicted')\n",
    "\n",
    "plt.show()"
   ]
  },
  {
   "cell_type": "markdown",
   "metadata": {},
   "source": [
    "#### Model 2 - Poisson model with weekday pattern and a trend"
   ]
  },
  {
   "cell_type": "markdown",
   "metadata": {},
   "source": [
    "In the second model, I set different constant parameters for each weekday instead of assuming a seasonality pattern. I also added a trend factor based on temperature."
   ]
  },
  {
   "cell_type": "code",
   "execution_count": 12,
   "metadata": {},
   "outputs": [],
   "source": [
    "day_of_week_idxs,days_of_week=pd.factorize(data['Day_of_week'])\n",
    "weather_idxs,weather=pd.factorize(data['Weather'])\n",
    "obs_idxs = np.arange(len(data))\n",
    "\n",
    "coords = {'days_of_week':days_of_week,\n",
    "         'weather':weather,\n",
    "         'obs_idxs':obs_idxs}"
   ]
  },
  {
   "cell_type": "code",
   "execution_count": 13,
   "metadata": {},
   "outputs": [
    {
     "name": "stderr",
     "output_type": "stream",
     "text": [
      "/home/john/anaconda3/lib/python3.8/site-packages/pymc3/model.py:1755: ImputationWarning: Data in count contains missing values and will be automatically imputed from the sampling distribution.\n",
      "  warnings.warn(impute_message, ImputationWarning)\n"
     ]
    },
    {
     "data": {
      "image/svg+xml": [
       "<?xml version=\"1.0\" encoding=\"UTF-8\" standalone=\"no\"?>\n",
       "<!DOCTYPE svg PUBLIC \"-//W3C//DTD SVG 1.1//EN\"\n",
       " \"http://www.w3.org/Graphics/SVG/1.1/DTD/svg11.dtd\">\n",
       "<!-- Generated by graphviz version 2.43.0 (0)\n",
       " -->\n",
       "<!-- Title: %3 Pages: 1 -->\n",
       "<svg width=\"375pt\" height=\"374pt\"\n",
       " viewBox=\"0.00 0.00 375.00 373.86\" xmlns=\"http://www.w3.org/2000/svg\" xmlns:xlink=\"http://www.w3.org/1999/xlink\">\n",
       "<g id=\"graph0\" class=\"graph\" transform=\"scale(1 1) rotate(0) translate(4 369.86)\">\n",
       "<title>%3</title>\n",
       "<polygon fill=\"white\" stroke=\"transparent\" points=\"-4,4 -4,-369.86 371,-369.86 371,4 -4,4\"/>\n",
       "<g id=\"clust1\" class=\"cluster\">\n",
       "<title>cluster5</title>\n",
       "<path fill=\"none\" stroke=\"black\" d=\"M20,-243.91C20,-243.91 110,-243.91 110,-243.91 116,-243.91 122,-249.91 122,-255.91 122,-255.91 122,-345.86 122,-345.86 122,-351.86 116,-357.86 110,-357.86 110,-357.86 20,-357.86 20,-357.86 14,-357.86 8,-351.86 8,-345.86 8,-345.86 8,-255.91 8,-255.91 8,-249.91 14,-243.91 20,-243.91\"/>\n",
       "<text text-anchor=\"middle\" x=\"109\" y=\"-251.71\" font-family=\"Times,serif\" font-size=\"14.00\">5</text>\n",
       "</g>\n",
       "<g id=\"clust2\" class=\"cluster\">\n",
       "<title>cluster25</title>\n",
       "<path fill=\"none\" stroke=\"black\" d=\"M43,-8C43,-8 149,-8 149,-8 155,-8 161,-14 161,-20 161,-20 161,-212.93 161,-212.93 161,-218.93 155,-224.93 149,-224.93 149,-224.93 43,-224.93 43,-224.93 37,-224.93 31,-218.93 31,-212.93 31,-212.93 31,-20 31,-20 31,-14 37,-8 43,-8\"/>\n",
       "<text text-anchor=\"middle\" x=\"143.5\" y=\"-15.8\" font-family=\"Times,serif\" font-size=\"14.00\">25</text>\n",
       "</g>\n",
       "<g id=\"clust3\" class=\"cluster\">\n",
       "<title>cluster10</title>\n",
       "<path fill=\"none\" stroke=\"black\" d=\"M181,-121.95C181,-121.95 347,-121.95 347,-121.95 353,-121.95 359,-127.95 359,-133.95 359,-133.95 359,-223.91 359,-223.91 359,-229.91 353,-235.91 347,-235.91 347,-235.91 181,-235.91 181,-235.91 175,-235.91 169,-229.91 169,-223.91 169,-223.91 169,-133.95 169,-133.95 169,-127.95 175,-121.95 181,-121.95\"/>\n",
       "<text text-anchor=\"middle\" x=\"341.5\" y=\"-129.75\" font-family=\"Times,serif\" font-size=\"14.00\">10</text>\n",
       "</g>\n",
       "<!-- 𝛼 -->\n",
       "<g id=\"node1\" class=\"node\">\n",
       "<title>𝛼</title>\n",
       "<ellipse fill=\"none\" stroke=\"black\" cx=\"65\" cy=\"-312.38\" rx=\"49.49\" ry=\"37.45\"/>\n",
       "<text text-anchor=\"middle\" x=\"65\" y=\"-323.68\" font-family=\"Times,serif\" font-size=\"14.00\">𝛼</text>\n",
       "<text text-anchor=\"middle\" x=\"65\" y=\"-308.68\" font-family=\"Times,serif\" font-size=\"14.00\">~</text>\n",
       "<text text-anchor=\"middle\" x=\"65\" y=\"-293.68\" font-family=\"Times,serif\" font-size=\"14.00\">Normal</text>\n",
       "</g>\n",
       "<!-- 𝜇 -->\n",
       "<g id=\"node4\" class=\"node\">\n",
       "<title>𝜇</title>\n",
       "<polygon fill=\"none\" stroke=\"black\" points=\"153,-216.93 39,-216.93 39,-163.93 153,-163.93 153,-216.93\"/>\n",
       "<text text-anchor=\"middle\" x=\"96\" y=\"-201.73\" font-family=\"Times,serif\" font-size=\"14.00\">𝜇</text>\n",
       "<text text-anchor=\"middle\" x=\"96\" y=\"-186.73\" font-family=\"Times,serif\" font-size=\"14.00\">~</text>\n",
       "<text text-anchor=\"middle\" x=\"96\" y=\"-171.73\" font-family=\"Times,serif\" font-size=\"14.00\">Deterministic</text>\n",
       "</g>\n",
       "<!-- 𝛼&#45;&gt;𝜇 -->\n",
       "<g id=\"edge2\" class=\"edge\">\n",
       "<title>𝛼&#45;&gt;𝜇</title>\n",
       "<path fill=\"none\" stroke=\"black\" d=\"M74.3,-275.39C78.24,-260.14 82.82,-242.41 86.76,-227.19\"/>\n",
       "<polygon fill=\"black\" stroke=\"black\" points=\"90.25,-227.67 89.36,-217.11 83.47,-225.91 90.25,-227.67\"/>\n",
       "</g>\n",
       "<!-- 𝛽 -->\n",
       "<g id=\"node2\" class=\"node\">\n",
       "<title>𝛽</title>\n",
       "<ellipse fill=\"none\" stroke=\"black\" cx=\"182\" cy=\"-312.38\" rx=\"49.49\" ry=\"37.45\"/>\n",
       "<text text-anchor=\"middle\" x=\"182\" y=\"-323.68\" font-family=\"Times,serif\" font-size=\"14.00\">𝛽</text>\n",
       "<text text-anchor=\"middle\" x=\"182\" y=\"-308.68\" font-family=\"Times,serif\" font-size=\"14.00\">~</text>\n",
       "<text text-anchor=\"middle\" x=\"182\" y=\"-293.68\" font-family=\"Times,serif\" font-size=\"14.00\">Normal</text>\n",
       "</g>\n",
       "<!-- 𝛽&#45;&gt;𝜇 -->\n",
       "<g id=\"edge1\" class=\"edge\">\n",
       "<title>𝛽&#45;&gt;𝜇</title>\n",
       "<path fill=\"none\" stroke=\"black\" d=\"M158.73,-278.92C146.87,-262.38 132.45,-242.27 120.43,-225.5\"/>\n",
       "<polygon fill=\"black\" stroke=\"black\" points=\"123.06,-223.16 114.39,-217.08 117.37,-227.24 123.06,-223.16\"/>\n",
       "</g>\n",
       "<!-- count -->\n",
       "<g id=\"node3\" class=\"node\">\n",
       "<title>count</title>\n",
       "<ellipse fill=\"lightgrey\" stroke=\"black\" cx=\"99\" cy=\"-76.48\" rx=\"50.41\" ry=\"37.45\"/>\n",
       "<text text-anchor=\"middle\" x=\"99\" y=\"-87.78\" font-family=\"Times,serif\" font-size=\"14.00\">count</text>\n",
       "<text text-anchor=\"middle\" x=\"99\" y=\"-72.78\" font-family=\"Times,serif\" font-size=\"14.00\">~</text>\n",
       "<text text-anchor=\"middle\" x=\"99\" y=\"-57.78\" font-family=\"Times,serif\" font-size=\"14.00\">Poisson</text>\n",
       "</g>\n",
       "<!-- 𝜇&#45;&gt;count -->\n",
       "<g id=\"edge4\" class=\"edge\">\n",
       "<title>𝜇&#45;&gt;count</title>\n",
       "<path fill=\"none\" stroke=\"black\" d=\"M96.69,-163.75C97,-152.02 97.38,-137.75 97.75,-124.22\"/>\n",
       "<polygon fill=\"black\" stroke=\"black\" points=\"101.25,-124.16 98.02,-114.07 94.25,-123.98 101.25,-124.16\"/>\n",
       "</g>\n",
       "<!-- count_missing -->\n",
       "<g id=\"node5\" class=\"node\">\n",
       "<title>count_missing</title>\n",
       "<ellipse fill=\"none\" stroke=\"black\" cx=\"264\" cy=\"-190.43\" rx=\"86.95\" ry=\"37.45\"/>\n",
       "<text text-anchor=\"middle\" x=\"264\" y=\"-201.73\" font-family=\"Times,serif\" font-size=\"14.00\">count_missing</text>\n",
       "<text text-anchor=\"middle\" x=\"264\" y=\"-186.73\" font-family=\"Times,serif\" font-size=\"14.00\">~</text>\n",
       "<text text-anchor=\"middle\" x=\"264\" y=\"-171.73\" font-family=\"Times,serif\" font-size=\"14.00\">NoDistribution</text>\n",
       "</g>\n",
       "<!-- count_missing&#45;&gt;count -->\n",
       "<g id=\"edge3\" class=\"edge\">\n",
       "<title>count_missing&#45;&gt;count</title>\n",
       "<path fill=\"none\" stroke=\"black\" d=\"M218.2,-158.14C201.47,-146.73 182.39,-133.74 165,-121.95 158.32,-117.43 151.26,-112.66 144.34,-107.98\"/>\n",
       "<polygon fill=\"black\" stroke=\"black\" points=\"145.93,-104.83 135.68,-102.14 142.01,-110.64 145.93,-104.83\"/>\n",
       "</g>\n",
       "</g>\n",
       "</svg>\n"
      ],
      "text/plain": [
       "<graphviz.graphs.Digraph at 0x7fa29e3d7b80>"
      ]
     },
     "execution_count": 13,
     "metadata": {},
     "output_type": "execute_result"
    }
   ],
   "source": [
    "with pm.Model(coords=coords) as m2:\n",
    "    𝛼 = pm.Normal('𝛼',5,1.5,dims='days_of_week')\n",
    "    𝛽 = pm.Normal('𝛽',0,0.5)\n",
    "    𝜇 = pm.Deterministic('𝜇',pm.math.exp(𝛼[day_of_week_idxs] + 𝛽 * data['Temp_high']))\n",
    "    \n",
    "    count = pm.Poisson('count',𝜇, observed = data['Count'])\n",
    "    \n",
    "pm.model_graph.model_to_graphviz(m2)"
   ]
  },
  {
   "cell_type": "code",
   "execution_count": 14,
   "metadata": {},
   "outputs": [
    {
     "name": "stderr",
     "output_type": "stream",
     "text": [
      "Multiprocess sampling (4 chains in 4 jobs)\n",
      "CompoundStep\n",
      ">NUTS: [𝛽, 𝛼]\n",
      ">Metropolis: [count_missing]\n"
     ]
    },
    {
     "data": {
      "text/html": [
       "\n",
       "    <div>\n",
       "        <style>\n",
       "            /* Turns off some styling */\n",
       "            progress {\n",
       "                /* gets rid of default border in Firefox and Opera. */\n",
       "                border: none;\n",
       "                /* Needs to be in here for Safari polyfill so background images work as expected. */\n",
       "                background-size: auto;\n",
       "            }\n",
       "            .progress-bar-interrupted, .progress-bar-interrupted::-webkit-progress-bar {\n",
       "                background: #F44336;\n",
       "            }\n",
       "        </style>\n",
       "      <progress value='60000' class='' max='60000' style='width:300px; height:20px; vertical-align: middle;'></progress>\n",
       "      100.00% [60000/60000 00:09<00:00 Sampling 4 chains, 0 divergences]\n",
       "    </div>\n",
       "    "
      ],
      "text/plain": [
       "<IPython.core.display.HTML object>"
      ]
     },
     "metadata": {},
     "output_type": "display_data"
    },
    {
     "name": "stderr",
     "output_type": "stream",
     "text": [
      "Sampling 4 chains for 5_000 tune and 10_000 draw iterations (20_000 + 40_000 draws total) took 10 seconds.\n",
      "The number of effective samples is smaller than 10% for some parameters.\n"
     ]
    }
   ],
   "source": [
    "with m2:\n",
    "    trace2 = pm.sample(10000,tune=5000)"
   ]
  },
  {
   "cell_type": "code",
   "execution_count": 15,
   "metadata": {},
   "outputs": [
    {
     "data": {
      "text/html": [
       "<div>\n",
       "<style scoped>\n",
       "    .dataframe tbody tr th:only-of-type {\n",
       "        vertical-align: middle;\n",
       "    }\n",
       "\n",
       "    .dataframe tbody tr th {\n",
       "        vertical-align: top;\n",
       "    }\n",
       "\n",
       "    .dataframe thead th {\n",
       "        text-align: right;\n",
       "    }\n",
       "</style>\n",
       "<table border=\"1\" class=\"dataframe\">\n",
       "  <thead>\n",
       "    <tr style=\"text-align: right;\">\n",
       "      <th></th>\n",
       "      <th>mean</th>\n",
       "      <th>sd</th>\n",
       "      <th>hdi_3%</th>\n",
       "      <th>hdi_97%</th>\n",
       "      <th>mcse_mean</th>\n",
       "      <th>mcse_sd</th>\n",
       "      <th>ess_mean</th>\n",
       "      <th>ess_sd</th>\n",
       "      <th>ess_bulk</th>\n",
       "      <th>ess_tail</th>\n",
       "      <th>r_hat</th>\n",
       "    </tr>\n",
       "  </thead>\n",
       "  <tbody>\n",
       "    <tr>\n",
       "      <th>𝛼[0]</th>\n",
       "      <td>5.160</td>\n",
       "      <td>0.054</td>\n",
       "      <td>5.058</td>\n",
       "      <td>5.260</td>\n",
       "      <td>0.002</td>\n",
       "      <td>0.002</td>\n",
       "      <td>598.0</td>\n",
       "      <td>597.0</td>\n",
       "      <td>597.0</td>\n",
       "      <td>1403.0</td>\n",
       "      <td>1.00</td>\n",
       "    </tr>\n",
       "    <tr>\n",
       "      <th>𝛼[1]</th>\n",
       "      <td>5.308</td>\n",
       "      <td>0.039</td>\n",
       "      <td>5.236</td>\n",
       "      <td>5.383</td>\n",
       "      <td>0.002</td>\n",
       "      <td>0.001</td>\n",
       "      <td>652.0</td>\n",
       "      <td>652.0</td>\n",
       "      <td>653.0</td>\n",
       "      <td>2716.0</td>\n",
       "      <td>1.01</td>\n",
       "    </tr>\n",
       "    <tr>\n",
       "      <th>𝛼[2]</th>\n",
       "      <td>5.010</td>\n",
       "      <td>0.048</td>\n",
       "      <td>4.921</td>\n",
       "      <td>5.101</td>\n",
       "      <td>0.001</td>\n",
       "      <td>0.001</td>\n",
       "      <td>1225.0</td>\n",
       "      <td>1225.0</td>\n",
       "      <td>1227.0</td>\n",
       "      <td>3594.0</td>\n",
       "      <td>1.00</td>\n",
       "    </tr>\n",
       "    <tr>\n",
       "      <th>𝛼[3]</th>\n",
       "      <td>4.158</td>\n",
       "      <td>0.089</td>\n",
       "      <td>3.994</td>\n",
       "      <td>4.327</td>\n",
       "      <td>0.003</td>\n",
       "      <td>0.002</td>\n",
       "      <td>1070.0</td>\n",
       "      <td>1067.0</td>\n",
       "      <td>1066.0</td>\n",
       "      <td>3444.0</td>\n",
       "      <td>1.00</td>\n",
       "    </tr>\n",
       "    <tr>\n",
       "      <th>𝛼[4]</th>\n",
       "      <td>4.698</td>\n",
       "      <td>0.049</td>\n",
       "      <td>4.607</td>\n",
       "      <td>4.788</td>\n",
       "      <td>0.001</td>\n",
       "      <td>0.001</td>\n",
       "      <td>3338.0</td>\n",
       "      <td>3335.0</td>\n",
       "      <td>3337.0</td>\n",
       "      <td>10918.0</td>\n",
       "      <td>1.00</td>\n",
       "    </tr>\n",
       "    <tr>\n",
       "      <th>𝛽</th>\n",
       "      <td>0.065</td>\n",
       "      <td>0.024</td>\n",
       "      <td>0.019</td>\n",
       "      <td>0.110</td>\n",
       "      <td>0.001</td>\n",
       "      <td>0.001</td>\n",
       "      <td>434.0</td>\n",
       "      <td>434.0</td>\n",
       "      <td>435.0</td>\n",
       "      <td>1636.0</td>\n",
       "      <td>1.01</td>\n",
       "    </tr>\n",
       "  </tbody>\n",
       "</table>\n",
       "</div>"
      ],
      "text/plain": [
       "       mean     sd  hdi_3%  hdi_97%  mcse_mean  mcse_sd  ess_mean  ess_sd  \\\n",
       "𝛼[0]  5.160  0.054   5.058    5.260      0.002    0.002     598.0   597.0   \n",
       "𝛼[1]  5.308  0.039   5.236    5.383      0.002    0.001     652.0   652.0   \n",
       "𝛼[2]  5.010  0.048   4.921    5.101      0.001    0.001    1225.0  1225.0   \n",
       "𝛼[3]  4.158  0.089   3.994    4.327      0.003    0.002    1070.0  1067.0   \n",
       "𝛼[4]  4.698  0.049   4.607    4.788      0.001    0.001    3338.0  3335.0   \n",
       "𝛽     0.065  0.024   0.019    0.110      0.001    0.001     434.0   434.0   \n",
       "\n",
       "      ess_bulk  ess_tail  r_hat  \n",
       "𝛼[0]     597.0    1403.0   1.00  \n",
       "𝛼[1]     653.0    2716.0   1.01  \n",
       "𝛼[2]    1227.0    3594.0   1.00  \n",
       "𝛼[3]    1066.0    3444.0   1.00  \n",
       "𝛼[4]    3337.0   10918.0   1.00  \n",
       "𝛽        435.0    1636.0   1.01  "
      ]
     },
     "execution_count": 15,
     "metadata": {},
     "output_type": "execute_result"
    }
   ],
   "source": [
    "az.summary(trace2,var_names=['𝛼','𝛽'])"
   ]
  },
  {
   "cell_type": "code",
   "execution_count": 16,
   "metadata": {},
   "outputs": [
    {
     "data": {
      "text/html": [
       "\n",
       "    <div>\n",
       "        <style>\n",
       "            /* Turns off some styling */\n",
       "            progress {\n",
       "                /* gets rid of default border in Firefox and Opera. */\n",
       "                border: none;\n",
       "                /* Needs to be in here for Safari polyfill so background images work as expected. */\n",
       "                background-size: auto;\n",
       "            }\n",
       "            .progress-bar-interrupted, .progress-bar-interrupted::-webkit-progress-bar {\n",
       "                background: #F44336;\n",
       "            }\n",
       "        </style>\n",
       "      <progress value='40000' class='' max='40000' style='width:300px; height:20px; vertical-align: middle;'></progress>\n",
       "      100.00% [40000/40000 00:18<00:00]\n",
       "    </div>\n",
       "    "
      ],
      "text/plain": [
       "<IPython.core.display.HTML object>"
      ]
     },
     "metadata": {},
     "output_type": "display_data"
    }
   ],
   "source": [
    "with m2:\n",
    "    prior_m2 = pm.sample_prior_predictive()\n",
    "    post_m2 = pm.sample_posterior_predictive(trace2,var_names=['count'])   "
   ]
  },
  {
   "cell_type": "markdown",
   "metadata": {},
   "source": [
    "The overall posterior predictions are close to the first model. The trend factor does not seem to have a material impact to the prediction. The predictions still appear to be not wide enough. This is potentially due to the use of Poisson distribution."
   ]
  },
  {
   "cell_type": "code",
   "execution_count": 17,
   "metadata": {},
   "outputs": [
    {
     "name": "stderr",
     "output_type": "stream",
     "text": [
      "<ipython-input-17-c61311861207>:4: UserWarning: FixedFormatter should only be used together with FixedLocator\n",
      "  ax[0].set_xticklabels(data.index,rotation=90)\n",
      "<ipython-input-17-c61311861207>:9: UserWarning: FixedFormatter should only be used together with FixedLocator\n",
      "  ax[1].set_xticklabels(data.index,rotation=90)\n"
     ]
    },
    {
     "data": {
      "image/png": "[encoded data removed]",
      "text/plain": [
       "<Figure size 1080x360 with 2 Axes>"
      ]
     },
     "metadata": {
      "needs_background": "light"
     },
     "output_type": "display_data"
    }
   ],
   "source": [
    "_,ax = plt.subplots(1,2,figsize=(15,5))\n",
    "az.plot_hdi(range(len(data)),prior_m2['count'],ax=ax[0])\n",
    "ax[0].bar(data.index,data['Count'])\n",
    "ax[0].set_xticklabels(data.index,rotation=90)\n",
    "ax[0].set_title('Actual vs. Prior predictive')\n",
    "\n",
    "az.plot_hdi(range(len(data)),post_m2['count'],ax=ax[1])\n",
    "ax[1].bar(data.index,data['Count'])\n",
    "ax[1].set_xticklabels(data.index,rotation=90)\n",
    "ax[1].set_title('Actual vs. Posterior predicted')\n",
    "\n",
    "plt.show()"
   ]
  },
  {
   "cell_type": "markdown",
   "metadata": {},
   "source": [
    "#### Model 3 - Negative Binomial model"
   ]
  },
  {
   "cell_type": "markdown",
   "metadata": {},
   "source": [
    "The first two models used a Poisson distribution, which appear to have difficulty representing the volatility presented in the actual data. Recall Poisson distribution assumes independence among occurance. In the third model I used a Negative Binomial distribution to reflect potential dependence among occurance, e.g. some teams choose to come in the office or not together on certain days/occasions. The prior distribution of the *n or alpha* parameter is chosen so that it is positive with a long tail. If this parameter is set to be the same as $\\mu$ the Negative Binomial distribution is equivalent to Poisson distribution."
   ]
  },
  {
   "cell_type": "markdown",
   "metadata": {},
   "source": [
    "The estimated *n* parameter has a wide range which is understandable given it measures the volatility or tail factor of the distribution based on only 15 data points. As shown, the posterior predictions are now much wider and covering the actual observation better."
   ]
  },
  {
   "cell_type": "code",
   "execution_count": 18,
   "metadata": {},
   "outputs": [
    {
     "name": "stderr",
     "output_type": "stream",
     "text": [
      "/home/john/anaconda3/lib/python3.8/site-packages/pymc3/model.py:1755: ImputationWarning: Data in count contains missing values and will be automatically imputed from the sampling distribution.\n",
      "  warnings.warn(impute_message, ImputationWarning)\n"
     ]
    },
    {
     "data": {
      "image/svg+xml": [
       "<?xml version=\"1.0\" encoding=\"UTF-8\" standalone=\"no\"?>\n",
       "<!DOCTYPE svg PUBLIC \"-//W3C//DTD SVG 1.1//EN\"\n",
       " \"http://www.w3.org/Graphics/SVG/1.1/DTD/svg11.dtd\">\n",
       "<!-- Generated by graphviz version 2.43.0 (0)\n",
       " -->\n",
       "<!-- Title: %3 Pages: 1 -->\n",
       "<svg width=\"584pt\" height=\"374pt\"\n",
       " viewBox=\"0.00 0.00 584.00 373.86\" xmlns=\"http://www.w3.org/2000/svg\" xmlns:xlink=\"http://www.w3.org/1999/xlink\">\n",
       "<g id=\"graph0\" class=\"graph\" transform=\"scale(1 1) rotate(0) translate(4 369.86)\">\n",
       "<title>%3</title>\n",
       "<polygon fill=\"white\" stroke=\"transparent\" points=\"-4,4 -4,-369.86 580,-369.86 580,4 -4,4\"/>\n",
       "<g id=\"clust1\" class=\"cluster\">\n",
       "<title>cluster5</title>\n",
       "<path fill=\"none\" stroke=\"black\" d=\"M30,-243.91C30,-243.91 120,-243.91 120,-243.91 126,-243.91 132,-249.91 132,-255.91 132,-255.91 132,-345.86 132,-345.86 132,-351.86 126,-357.86 120,-357.86 120,-357.86 30,-357.86 30,-357.86 24,-357.86 18,-351.86 18,-345.86 18,-345.86 18,-255.91 18,-255.91 18,-249.91 24,-243.91 30,-243.91\"/>\n",
       "<text text-anchor=\"middle\" x=\"119\" y=\"-251.71\" font-family=\"Times,serif\" font-size=\"14.00\">5</text>\n",
       "</g>\n",
       "<g id=\"clust2\" class=\"cluster\">\n",
       "<title>cluster25</title>\n",
       "<path fill=\"none\" stroke=\"black\" d=\"M20,-8C20,-8 216,-8 216,-8 222,-8 228,-14 228,-20 228,-20 228,-212.93 228,-212.93 228,-218.93 222,-224.93 216,-224.93 216,-224.93 20,-224.93 20,-224.93 14,-224.93 8,-218.93 8,-212.93 8,-212.93 8,-20 8,-20 8,-14 14,-8 20,-8\"/>\n",
       "<text text-anchor=\"middle\" x=\"210.5\" y=\"-15.8\" font-family=\"Times,serif\" font-size=\"14.00\">25</text>\n",
       "</g>\n",
       "<g id=\"clust3\" class=\"cluster\">\n",
       "<title>cluster10</title>\n",
       "<path fill=\"none\" stroke=\"black\" d=\"M390,-121.95C390,-121.95 556,-121.95 556,-121.95 562,-121.95 568,-127.95 568,-133.95 568,-133.95 568,-223.91 568,-223.91 568,-229.91 562,-235.91 556,-235.91 556,-235.91 390,-235.91 390,-235.91 384,-235.91 378,-229.91 378,-223.91 378,-223.91 378,-133.95 378,-133.95 378,-127.95 384,-121.95 390,-121.95\"/>\n",
       "<text text-anchor=\"middle\" x=\"550.5\" y=\"-129.75\" font-family=\"Times,serif\" font-size=\"14.00\">10</text>\n",
       "</g>\n",
       "<!-- 𝛼 -->\n",
       "<g id=\"node1\" class=\"node\">\n",
       "<title>𝛼</title>\n",
       "<ellipse fill=\"none\" stroke=\"black\" cx=\"75\" cy=\"-312.38\" rx=\"49.49\" ry=\"37.45\"/>\n",
       "<text text-anchor=\"middle\" x=\"75\" y=\"-323.68\" font-family=\"Times,serif\" font-size=\"14.00\">𝛼</text>\n",
       "<text text-anchor=\"middle\" x=\"75\" y=\"-308.68\" font-family=\"Times,serif\" font-size=\"14.00\">~</text>\n",
       "<text text-anchor=\"middle\" x=\"75\" y=\"-293.68\" font-family=\"Times,serif\" font-size=\"14.00\">Normal</text>\n",
       "</g>\n",
       "<!-- 𝜇 -->\n",
       "<g id=\"node5\" class=\"node\">\n",
       "<title>𝜇</title>\n",
       "<polygon fill=\"none\" stroke=\"black\" points=\"175,-216.93 61,-216.93 61,-163.93 175,-163.93 175,-216.93\"/>\n",
       "<text text-anchor=\"middle\" x=\"118\" y=\"-201.73\" font-family=\"Times,serif\" font-size=\"14.00\">𝜇</text>\n",
       "<text text-anchor=\"middle\" x=\"118\" y=\"-186.73\" font-family=\"Times,serif\" font-size=\"14.00\">~</text>\n",
       "<text text-anchor=\"middle\" x=\"118\" y=\"-171.73\" font-family=\"Times,serif\" font-size=\"14.00\">Deterministic</text>\n",
       "</g>\n",
       "<!-- 𝛼&#45;&gt;𝜇 -->\n",
       "<g id=\"edge2\" class=\"edge\">\n",
       "<title>𝛼&#45;&gt;𝜇</title>\n",
       "<path fill=\"none\" stroke=\"black\" d=\"M87.67,-276.04C93.24,-260.51 99.76,-242.31 105.33,-226.77\"/>\n",
       "<polygon fill=\"black\" stroke=\"black\" points=\"108.75,-227.6 108.83,-217.01 102.16,-225.24 108.75,-227.6\"/>\n",
       "</g>\n",
       "<!-- 𝛽 -->\n",
       "<g id=\"node2\" class=\"node\">\n",
       "<title>𝛽</title>\n",
       "<ellipse fill=\"none\" stroke=\"black\" cx=\"192\" cy=\"-312.38\" rx=\"49.49\" ry=\"37.45\"/>\n",
       "<text text-anchor=\"middle\" x=\"192\" y=\"-323.68\" font-family=\"Times,serif\" font-size=\"14.00\">𝛽</text>\n",
       "<text text-anchor=\"middle\" x=\"192\" y=\"-308.68\" font-family=\"Times,serif\" font-size=\"14.00\">~</text>\n",
       "<text text-anchor=\"middle\" x=\"192\" y=\"-293.68\" font-family=\"Times,serif\" font-size=\"14.00\">Normal</text>\n",
       "</g>\n",
       "<!-- 𝛽&#45;&gt;𝜇 -->\n",
       "<g id=\"edge1\" class=\"edge\">\n",
       "<title>𝛽&#45;&gt;𝜇</title>\n",
       "<path fill=\"none\" stroke=\"black\" d=\"M171.39,-277.97C161.36,-261.71 149.31,-242.18 139.2,-225.8\"/>\n",
       "<polygon fill=\"black\" stroke=\"black\" points=\"142.04,-223.73 133.81,-217.06 136.08,-227.41 142.04,-223.73\"/>\n",
       "</g>\n",
       "<!-- n -->\n",
       "<g id=\"node3\" class=\"node\">\n",
       "<title>n</title>\n",
       "<ellipse fill=\"none\" stroke=\"black\" cx=\"302\" cy=\"-190.43\" rx=\"65.52\" ry=\"37.45\"/>\n",
       "<text text-anchor=\"middle\" x=\"302\" y=\"-201.73\" font-family=\"Times,serif\" font-size=\"14.00\">n</text>\n",
       "<text text-anchor=\"middle\" x=\"302\" y=\"-186.73\" font-family=\"Times,serif\" font-size=\"14.00\">~</text>\n",
       "<text text-anchor=\"middle\" x=\"302\" y=\"-171.73\" font-family=\"Times,serif\" font-size=\"14.00\">Lognormal</text>\n",
       "</g>\n",
       "<!-- count -->\n",
       "<g id=\"node4\" class=\"node\">\n",
       "<title>count</title>\n",
       "<ellipse fill=\"lightgrey\" stroke=\"black\" cx=\"118\" cy=\"-76.48\" rx=\"101.65\" ry=\"37.45\"/>\n",
       "<text text-anchor=\"middle\" x=\"118\" y=\"-87.78\" font-family=\"Times,serif\" font-size=\"14.00\">count</text>\n",
       "<text text-anchor=\"middle\" x=\"118\" y=\"-72.78\" font-family=\"Times,serif\" font-size=\"14.00\">~</text>\n",
       "<text text-anchor=\"middle\" x=\"118\" y=\"-57.78\" font-family=\"Times,serif\" font-size=\"14.00\">NegativeBinomial</text>\n",
       "</g>\n",
       "<!-- n&#45;&gt;count -->\n",
       "<g id=\"edge5\" class=\"edge\">\n",
       "<title>n&#45;&gt;count</title>\n",
       "<path fill=\"none\" stroke=\"black\" d=\"M273.25,-156.67C261.38,-144.58 246.93,-131.51 232,-121.95 222.82,-116.08 212.75,-110.77 202.5,-106.04\"/>\n",
       "<polygon fill=\"black\" stroke=\"black\" points=\"203.62,-102.71 193.06,-101.86 200.79,-109.11 203.62,-102.71\"/>\n",
       "</g>\n",
       "<!-- 𝜇&#45;&gt;count -->\n",
       "<g id=\"edge4\" class=\"edge\">\n",
       "<title>𝜇&#45;&gt;count</title>\n",
       "<path fill=\"none\" stroke=\"black\" d=\"M118,-163.75C118,-152.02 118,-137.75 118,-124.22\"/>\n",
       "<polygon fill=\"black\" stroke=\"black\" points=\"121.5,-124.07 118,-114.07 114.5,-124.07 121.5,-124.07\"/>\n",
       "</g>\n",
       "<!-- count_missing -->\n",
       "<g id=\"node6\" class=\"node\">\n",
       "<title>count_missing</title>\n",
       "<ellipse fill=\"none\" stroke=\"black\" cx=\"473\" cy=\"-190.43\" rx=\"86.95\" ry=\"37.45\"/>\n",
       "<text text-anchor=\"middle\" x=\"473\" y=\"-201.73\" font-family=\"Times,serif\" font-size=\"14.00\">count_missing</text>\n",
       "<text text-anchor=\"middle\" x=\"473\" y=\"-186.73\" font-family=\"Times,serif\" font-size=\"14.00\">~</text>\n",
       "<text text-anchor=\"middle\" x=\"473\" y=\"-171.73\" font-family=\"Times,serif\" font-size=\"14.00\">NoDistribution</text>\n",
       "</g>\n",
       "<!-- count_missing&#45;&gt;count -->\n",
       "<g id=\"edge3\" class=\"edge\">\n",
       "<title>count_missing&#45;&gt;count</title>\n",
       "<path fill=\"none\" stroke=\"black\" d=\"M434.7,-156.61C417.98,-143.91 397.53,-130.42 377,-121.95 330.05,-102.58 274.95,-91.64 227.67,-85.47\"/>\n",
       "<polygon fill=\"black\" stroke=\"black\" points=\"228.06,-81.99 217.71,-84.23 227.19,-88.94 228.06,-81.99\"/>\n",
       "</g>\n",
       "</g>\n",
       "</svg>\n"
      ],
      "text/plain": [
       "<graphviz.graphs.Digraph at 0x7fa29c714c40>"
      ]
     },
     "execution_count": 18,
     "metadata": {},
     "output_type": "execute_result"
    }
   ],
   "source": [
    "with pm.Model(coords=coords) as m3:\n",
    "    𝛼 = pm.Normal('𝛼',5,1.5,dims='days_of_week')\n",
    "    𝛽 = pm.Normal('𝛽',0,0.5)\n",
    "    𝜇 = pm.Deterministic('𝜇',pm.math.exp(𝛼[day_of_week_idxs] + 𝛽 * data['Temp_high']))\n",
    "    n = pm.Lognormal('n',0,5)\n",
    "    \n",
    "    count = pm.NegativeBinomial('count',mu=𝜇, n=n, observed = data['Count'])\n",
    "    \n",
    "pm.model_graph.model_to_graphviz(m3)"
   ]
  },
  {
   "cell_type": "code",
   "execution_count": 19,
   "metadata": {},
   "outputs": [
    {
     "name": "stderr",
     "output_type": "stream",
     "text": [
      "Multiprocess sampling (4 chains in 4 jobs)\n",
      "CompoundStep\n",
      ">NUTS: [n, 𝛽, 𝛼]\n",
      ">Metropolis: [count_missing]\n"
     ]
    },
    {
     "data": {
      "text/html": [
       "\n",
       "    <div>\n",
       "        <style>\n",
       "            /* Turns off some styling */\n",
       "            progress {\n",
       "                /* gets rid of default border in Firefox and Opera. */\n",
       "                border: none;\n",
       "                /* Needs to be in here for Safari polyfill so background images work as expected. */\n",
       "                background-size: auto;\n",
       "            }\n",
       "            .progress-bar-interrupted, .progress-bar-interrupted::-webkit-progress-bar {\n",
       "                background: #F44336;\n",
       "            }\n",
       "        </style>\n",
       "      <progress value='60000' class='' max='60000' style='width:300px; height:20px; vertical-align: middle;'></progress>\n",
       "      100.00% [60000/60000 00:15<00:00 Sampling 4 chains, 0 divergences]\n",
       "    </div>\n",
       "    "
      ],
      "text/plain": [
       "<IPython.core.display.HTML object>"
      ]
     },
     "metadata": {},
     "output_type": "display_data"
    },
    {
     "name": "stderr",
     "output_type": "stream",
     "text": [
      "Sampling 4 chains for 5_000 tune and 10_000 draw iterations (20_000 + 40_000 draws total) took 15 seconds.\n",
      "The estimated number of effective samples is smaller than 200 for some parameters.\n"
     ]
    },
    {
     "data": {
      "text/html": [
       "<div>\n",
       "<style scoped>\n",
       "    .dataframe tbody tr th:only-of-type {\n",
       "        vertical-align: middle;\n",
       "    }\n",
       "\n",
       "    .dataframe tbody tr th {\n",
       "        vertical-align: top;\n",
       "    }\n",
       "\n",
       "    .dataframe thead th {\n",
       "        text-align: right;\n",
       "    }\n",
       "</style>\n",
       "<table border=\"1\" class=\"dataframe\">\n",
       "  <thead>\n",
       "    <tr style=\"text-align: right;\">\n",
       "      <th></th>\n",
       "      <th>mean</th>\n",
       "      <th>sd</th>\n",
       "      <th>hdi_3%</th>\n",
       "      <th>hdi_97%</th>\n",
       "      <th>mcse_mean</th>\n",
       "      <th>mcse_sd</th>\n",
       "      <th>ess_mean</th>\n",
       "      <th>ess_sd</th>\n",
       "      <th>ess_bulk</th>\n",
       "      <th>ess_tail</th>\n",
       "      <th>r_hat</th>\n",
       "    </tr>\n",
       "  </thead>\n",
       "  <tbody>\n",
       "    <tr>\n",
       "      <th>𝛼[0]</th>\n",
       "      <td>5.164</td>\n",
       "      <td>0.115</td>\n",
       "      <td>4.948</td>\n",
       "      <td>5.387</td>\n",
       "      <td>0.006</td>\n",
       "      <td>0.004</td>\n",
       "      <td>379.0</td>\n",
       "      <td>379.0</td>\n",
       "      <td>380.0</td>\n",
       "      <td>824.0</td>\n",
       "      <td>1.01</td>\n",
       "    </tr>\n",
       "    <tr>\n",
       "      <th>𝛼[1]</th>\n",
       "      <td>5.318</td>\n",
       "      <td>0.089</td>\n",
       "      <td>5.147</td>\n",
       "      <td>5.490</td>\n",
       "      <td>0.004</td>\n",
       "      <td>0.003</td>\n",
       "      <td>433.0</td>\n",
       "      <td>429.0</td>\n",
       "      <td>431.0</td>\n",
       "      <td>769.0</td>\n",
       "      <td>1.01</td>\n",
       "    </tr>\n",
       "    <tr>\n",
       "      <th>𝛼[2]</th>\n",
       "      <td>5.016</td>\n",
       "      <td>0.098</td>\n",
       "      <td>4.837</td>\n",
       "      <td>5.210</td>\n",
       "      <td>0.004</td>\n",
       "      <td>0.003</td>\n",
       "      <td>750.0</td>\n",
       "      <td>742.0</td>\n",
       "      <td>768.0</td>\n",
       "      <td>1179.0</td>\n",
       "      <td>1.00</td>\n",
       "    </tr>\n",
       "    <tr>\n",
       "      <th>𝛼[3]</th>\n",
       "      <td>4.175</td>\n",
       "      <td>0.135</td>\n",
       "      <td>3.927</td>\n",
       "      <td>4.437</td>\n",
       "      <td>0.004</td>\n",
       "      <td>0.003</td>\n",
       "      <td>1079.0</td>\n",
       "      <td>1076.0</td>\n",
       "      <td>1081.0</td>\n",
       "      <td>2597.0</td>\n",
       "      <td>1.00</td>\n",
       "    </tr>\n",
       "    <tr>\n",
       "      <th>𝛼[4]</th>\n",
       "      <td>4.700</td>\n",
       "      <td>0.089</td>\n",
       "      <td>4.528</td>\n",
       "      <td>4.865</td>\n",
       "      <td>0.002</td>\n",
       "      <td>0.001</td>\n",
       "      <td>2301.0</td>\n",
       "      <td>2280.0</td>\n",
       "      <td>2379.0</td>\n",
       "      <td>3285.0</td>\n",
       "      <td>1.00</td>\n",
       "    </tr>\n",
       "    <tr>\n",
       "      <th>𝛽</th>\n",
       "      <td>0.071</td>\n",
       "      <td>0.047</td>\n",
       "      <td>-0.019</td>\n",
       "      <td>0.162</td>\n",
       "      <td>0.002</td>\n",
       "      <td>0.002</td>\n",
       "      <td>425.0</td>\n",
       "      <td>366.0</td>\n",
       "      <td>420.0</td>\n",
       "      <td>740.0</td>\n",
       "      <td>1.00</td>\n",
       "    </tr>\n",
       "    <tr>\n",
       "      <th>n</th>\n",
       "      <td>13115.095</td>\n",
       "      <td>1022505.533</td>\n",
       "      <td>6.044</td>\n",
       "      <td>217.454</td>\n",
       "      <td>9923.980</td>\n",
       "      <td>7017.506</td>\n",
       "      <td>10616.0</td>\n",
       "      <td>10616.0</td>\n",
       "      <td>433.0</td>\n",
       "      <td>1354.0</td>\n",
       "      <td>1.02</td>\n",
       "    </tr>\n",
       "    <tr>\n",
       "      <th>count_missing[0]</th>\n",
       "      <td>185.390</td>\n",
       "      <td>35.679</td>\n",
       "      <td>117.000</td>\n",
       "      <td>250.000</td>\n",
       "      <td>2.137</td>\n",
       "      <td>1.551</td>\n",
       "      <td>279.0</td>\n",
       "      <td>265.0</td>\n",
       "      <td>298.0</td>\n",
       "      <td>360.0</td>\n",
       "      <td>1.01</td>\n",
       "    </tr>\n",
       "    <tr>\n",
       "      <th>count_missing[1]</th>\n",
       "      <td>67.686</td>\n",
       "      <td>15.954</td>\n",
       "      <td>37.000</td>\n",
       "      <td>96.000</td>\n",
       "      <td>0.533</td>\n",
       "      <td>0.378</td>\n",
       "      <td>897.0</td>\n",
       "      <td>891.0</td>\n",
       "      <td>916.0</td>\n",
       "      <td>1620.0</td>\n",
       "      <td>1.00</td>\n",
       "    </tr>\n",
       "    <tr>\n",
       "      <th>count_missing[2]</th>\n",
       "      <td>159.323</td>\n",
       "      <td>32.939</td>\n",
       "      <td>95.000</td>\n",
       "      <td>219.000</td>\n",
       "      <td>1.993</td>\n",
       "      <td>1.434</td>\n",
       "      <td>273.0</td>\n",
       "      <td>264.0</td>\n",
       "      <td>285.0</td>\n",
       "      <td>409.0</td>\n",
       "      <td>1.01</td>\n",
       "    </tr>\n",
       "    <tr>\n",
       "      <th>count_missing[3]</th>\n",
       "      <td>145.286</td>\n",
       "      <td>29.659</td>\n",
       "      <td>95.000</td>\n",
       "      <td>206.000</td>\n",
       "      <td>1.473</td>\n",
       "      <td>1.095</td>\n",
       "      <td>405.0</td>\n",
       "      <td>368.0</td>\n",
       "      <td>451.0</td>\n",
       "      <td>479.0</td>\n",
       "      <td>1.01</td>\n",
       "    </tr>\n",
       "    <tr>\n",
       "      <th>count_missing[4]</th>\n",
       "      <td>66.026</td>\n",
       "      <td>15.399</td>\n",
       "      <td>37.000</td>\n",
       "      <td>94.000</td>\n",
       "      <td>0.480</td>\n",
       "      <td>0.347</td>\n",
       "      <td>1029.0</td>\n",
       "      <td>983.0</td>\n",
       "      <td>1091.0</td>\n",
       "      <td>1675.0</td>\n",
       "      <td>1.00</td>\n",
       "    </tr>\n",
       "    <tr>\n",
       "      <th>count_missing[5]</th>\n",
       "      <td>178.439</td>\n",
       "      <td>35.471</td>\n",
       "      <td>110.000</td>\n",
       "      <td>245.000</td>\n",
       "      <td>2.282</td>\n",
       "      <td>1.615</td>\n",
       "      <td>242.0</td>\n",
       "      <td>242.0</td>\n",
       "      <td>240.0</td>\n",
       "      <td>409.0</td>\n",
       "      <td>1.01</td>\n",
       "    </tr>\n",
       "    <tr>\n",
       "      <th>count_missing[6]</th>\n",
       "      <td>234.726</td>\n",
       "      <td>52.340</td>\n",
       "      <td>135.000</td>\n",
       "      <td>332.000</td>\n",
       "      <td>4.648</td>\n",
       "      <td>3.470</td>\n",
       "      <td>127.0</td>\n",
       "      <td>114.0</td>\n",
       "      <td>140.0</td>\n",
       "      <td>171.0</td>\n",
       "      <td>1.01</td>\n",
       "    </tr>\n",
       "    <tr>\n",
       "      <th>count_missing[7]</th>\n",
       "      <td>164.256</td>\n",
       "      <td>32.500</td>\n",
       "      <td>105.000</td>\n",
       "      <td>228.000</td>\n",
       "      <td>1.813</td>\n",
       "      <td>1.287</td>\n",
       "      <td>322.0</td>\n",
       "      <td>319.0</td>\n",
       "      <td>330.0</td>\n",
       "      <td>470.0</td>\n",
       "      <td>1.02</td>\n",
       "    </tr>\n",
       "    <tr>\n",
       "      <th>count_missing[8]</th>\n",
       "      <td>69.877</td>\n",
       "      <td>16.572</td>\n",
       "      <td>39.000</td>\n",
       "      <td>100.000</td>\n",
       "      <td>0.536</td>\n",
       "      <td>0.382</td>\n",
       "      <td>957.0</td>\n",
       "      <td>942.0</td>\n",
       "      <td>982.0</td>\n",
       "      <td>1674.0</td>\n",
       "      <td>1.00</td>\n",
       "    </tr>\n",
       "    <tr>\n",
       "      <th>count_missing[9]</th>\n",
       "      <td>118.053</td>\n",
       "      <td>24.343</td>\n",
       "      <td>70.000</td>\n",
       "      <td>162.000</td>\n",
       "      <td>1.027</td>\n",
       "      <td>0.760</td>\n",
       "      <td>561.0</td>\n",
       "      <td>514.0</td>\n",
       "      <td>621.0</td>\n",
       "      <td>578.0</td>\n",
       "      <td>1.01</td>\n",
       "    </tr>\n",
       "  </tbody>\n",
       "</table>\n",
       "</div>"
      ],
      "text/plain": [
       "                       mean           sd   hdi_3%  hdi_97%  mcse_mean  \\\n",
       "𝛼[0]                  5.164        0.115    4.948    5.387      0.006   \n",
       "𝛼[1]                  5.318        0.089    5.147    5.490      0.004   \n",
       "𝛼[2]                  5.016        0.098    4.837    5.210      0.004   \n",
       "𝛼[3]                  4.175        0.135    3.927    4.437      0.004   \n",
       "𝛼[4]                  4.700        0.089    4.528    4.865      0.002   \n",
       "𝛽                     0.071        0.047   -0.019    0.162      0.002   \n",
       "n                 13115.095  1022505.533    6.044  217.454   9923.980   \n",
       "count_missing[0]    185.390       35.679  117.000  250.000      2.137   \n",
       "count_missing[1]     67.686       15.954   37.000   96.000      0.533   \n",
       "count_missing[2]    159.323       32.939   95.000  219.000      1.993   \n",
       "count_missing[3]    145.286       29.659   95.000  206.000      1.473   \n",
       "count_missing[4]     66.026       15.399   37.000   94.000      0.480   \n",
       "count_missing[5]    178.439       35.471  110.000  245.000      2.282   \n",
       "count_missing[6]    234.726       52.340  135.000  332.000      4.648   \n",
       "count_missing[7]    164.256       32.500  105.000  228.000      1.813   \n",
       "count_missing[8]     69.877       16.572   39.000  100.000      0.536   \n",
       "count_missing[9]    118.053       24.343   70.000  162.000      1.027   \n",
       "\n",
       "                   mcse_sd  ess_mean   ess_sd  ess_bulk  ess_tail  r_hat  \n",
       "𝛼[0]                 0.004     379.0    379.0     380.0     824.0   1.01  \n",
       "𝛼[1]                 0.003     433.0    429.0     431.0     769.0   1.01  \n",
       "𝛼[2]                 0.003     750.0    742.0     768.0    1179.0   1.00  \n",
       "𝛼[3]                 0.003    1079.0   1076.0    1081.0    2597.0   1.00  \n",
       "𝛼[4]                 0.001    2301.0   2280.0    2379.0    3285.0   1.00  \n",
       "𝛽                    0.002     425.0    366.0     420.0     740.0   1.00  \n",
       "n                 7017.506   10616.0  10616.0     433.0    1354.0   1.02  \n",
       "count_missing[0]     1.551     279.0    265.0     298.0     360.0   1.01  \n",
       "count_missing[1]     0.378     897.0    891.0     916.0    1620.0   1.00  \n",
       "count_missing[2]     1.434     273.0    264.0     285.0     409.0   1.01  \n",
       "count_missing[3]     1.095     405.0    368.0     451.0     479.0   1.01  \n",
       "count_missing[4]     0.347    1029.0    983.0    1091.0    1675.0   1.00  \n",
       "count_missing[5]     1.615     242.0    242.0     240.0     409.0   1.01  \n",
       "count_missing[6]     3.470     127.0    114.0     140.0     171.0   1.01  \n",
       "count_missing[7]     1.287     322.0    319.0     330.0     470.0   1.02  \n",
       "count_missing[8]     0.382     957.0    942.0     982.0    1674.0   1.00  \n",
       "count_missing[9]     0.760     561.0    514.0     621.0     578.0   1.01  "
      ]
     },
     "execution_count": 19,
     "metadata": {},
     "output_type": "execute_result"
    }
   ],
   "source": [
    "with m3:\n",
    "    trace3 = pm.sample(10000,tune=5000)\n",
    "az.summary(trace3,var_names=['𝛼','𝛽','n','count_missing'])"
   ]
  },
  {
   "cell_type": "code",
   "execution_count": 20,
   "metadata": {},
   "outputs": [
    {
     "data": {
      "text/html": [
       "\n",
       "    <div>\n",
       "        <style>\n",
       "            /* Turns off some styling */\n",
       "            progress {\n",
       "                /* gets rid of default border in Firefox and Opera. */\n",
       "                border: none;\n",
       "                /* Needs to be in here for Safari polyfill so background images work as expected. */\n",
       "                background-size: auto;\n",
       "            }\n",
       "            .progress-bar-interrupted, .progress-bar-interrupted::-webkit-progress-bar {\n",
       "                background: #F44336;\n",
       "            }\n",
       "        </style>\n",
       "      <progress value='40000' class='' max='40000' style='width:300px; height:20px; vertical-align: middle;'></progress>\n",
       "      100.00% [40000/40000 00:22<00:00]\n",
       "    </div>\n",
       "    "
      ],
      "text/plain": [
       "<IPython.core.display.HTML object>"
      ]
     },
     "metadata": {},
     "output_type": "display_data"
    }
   ],
   "source": [
    "with m3:\n",
    "    prior_m3 = pm.sample_prior_predictive()\n",
    "    post_m3 = pm.sample_posterior_predictive(trace3,var_names=['count']) "
   ]
  },
  {
   "cell_type": "code",
   "execution_count": 21,
   "metadata": {},
   "outputs": [
    {
     "name": "stderr",
     "output_type": "stream",
     "text": [
      "<ipython-input-21-57a1988b0227>:4: UserWarning: FixedFormatter should only be used together with FixedLocator\n",
      "  ax[0].set_xticklabels(data.index,rotation=90)\n",
      "<ipython-input-21-57a1988b0227>:9: UserWarning: FixedFormatter should only be used together with FixedLocator\n",
      "  ax[1].set_xticklabels(data.index,rotation=90)\n"
     ]
    },
    {
     "data": {
      "image/png": "[encoded data removed]",
      "text/plain": [
       "<Figure size 1080x360 with 2 Axes>"
      ]
     },
     "metadata": {
      "needs_background": "light"
     },
     "output_type": "display_data"
    }
   ],
   "source": [
    "_,ax = plt.subplots(1,2,figsize=(15,5))\n",
    "az.plot_hdi(range(len(data)),prior_m3['count'],ax=ax[0])\n",
    "ax[0].bar(data.index,data['Count'])\n",
    "ax[0].set_xticklabels(data.index,rotation=90)\n",
    "ax[0].set_title('Actual vs. Prior predictive')\n",
    "\n",
    "az.plot_hdi(range(len(data)),post_m3['count'],ax=ax[1])\n",
    "ax[1].bar(data.index,data['Count'])\n",
    "ax[1].set_xticklabels(data.index,rotation=90)\n",
    "ax[1].set_title('Actual vs. Posterior predicted')\n",
    "\n",
    "plt.show()"
   ]
  },
  {
   "cell_type": "markdown",
   "metadata": {},
   "source": [
    "#### Model 4 - B-splines"
   ]
  },
  {
   "cell_type": "markdown",
   "metadata": {},
   "source": [
    "Even though fitting with splines is probably not a good idea here, I still demonstrated the use of Bayesian B-splines below. It is not a surprise the prediction is not a good one."
   ]
  },
  {
   "cell_type": "code",
   "execution_count": 22,
   "metadata": {},
   "outputs": [],
   "source": [
    "num_knots = 5\n",
    "knot_list = np.linspace(0, 24, num_knots+2)[1:-1]\n",
    "B = dmatrix(\n",
    "    \"bs(cnt, knots=knots, degree=2, include_intercept=True) - 1\",\n",
    "    {\"cnt\": np.arange(25), \"knots\": knot_list[1:-1]})"
   ]
  },
  {
   "cell_type": "code",
   "execution_count": 23,
   "metadata": {},
   "outputs": [
    {
     "name": "stderr",
     "output_type": "stream",
     "text": [
      "/home/john/anaconda3/lib/python3.8/site-packages/pymc3/model.py:1755: ImputationWarning: Data in count contains missing values and will be automatically imputed from the sampling distribution.\n",
      "  warnings.warn(impute_message, ImputationWarning)\n"
     ]
    },
    {
     "data": {
      "text/html": [
       "\n",
       "    <div>\n",
       "        <style>\n",
       "            /* Turns off some styling */\n",
       "            progress {\n",
       "                /* gets rid of default border in Firefox and Opera. */\n",
       "                border: none;\n",
       "                /* Needs to be in here for Safari polyfill so background images work as expected. */\n",
       "                background-size: auto;\n",
       "            }\n",
       "            .progress-bar-interrupted, .progress-bar-interrupted::-webkit-progress-bar {\n",
       "                background: #F44336;\n",
       "            }\n",
       "        </style>\n",
       "      <progress value='25' class='' max='25' style='width:300px; height:20px; vertical-align: middle;'></progress>\n",
       "      100.00% [25/25 00:00<00:00 logp = -682.46, ||grad|| = 0.66909]\n",
       "    </div>\n",
       "    "
      ],
      "text/plain": [
       "<IPython.core.display.HTML object>"
      ]
     },
     "metadata": {},
     "output_type": "display_data"
    },
    {
     "name": "stdout",
     "output_type": "stream",
     "text": [
      "\n"
     ]
    }
   ],
   "source": [
    "with pm.Model() as m4:\n",
    "    β = pm.Normal(\"β\", mu=0, sd=5., shape=B.shape[1])\n",
    "    μ = pm.Deterministic(\"μ\", pm.math.exp(pm.math.dot(B, β)))\n",
    "    count = pm.Poisson(\"count\", μ, observed=data['Count'])\n",
    "with m4:\n",
    "    start = pm.find_MAP()\n",
    "    step = pm.NUTS()"
   ]
  },
  {
   "cell_type": "code",
   "execution_count": 24,
   "metadata": {},
   "outputs": [
    {
     "name": "stderr",
     "output_type": "stream",
     "text": [
      "Multiprocess sampling (4 chains in 4 jobs)\n",
      "CompoundStep\n",
      ">NUTS: [β]\n",
      ">Metropolis: [count_missing]\n"
     ]
    },
    {
     "data": {
      "text/html": [
       "\n",
       "    <div>\n",
       "        <style>\n",
       "            /* Turns off some styling */\n",
       "            progress {\n",
       "                /* gets rid of default border in Firefox and Opera. */\n",
       "                border: none;\n",
       "                /* Needs to be in here for Safari polyfill so background images work as expected. */\n",
       "                background-size: auto;\n",
       "            }\n",
       "            .progress-bar-interrupted, .progress-bar-interrupted::-webkit-progress-bar {\n",
       "                background: #F44336;\n",
       "            }\n",
       "        </style>\n",
       "      <progress value='44000' class='' max='44000' style='width:300px; height:20px; vertical-align: middle;'></progress>\n",
       "      100.00% [44000/44000 00:09<00:00 Sampling 4 chains, 4,598 divergences]\n",
       "    </div>\n",
       "    "
      ],
      "text/plain": [
       "<IPython.core.display.HTML object>"
      ]
     },
     "metadata": {},
     "output_type": "display_data"
    },
    {
     "name": "stderr",
     "output_type": "stream",
     "text": [
      "Sampling 4 chains for 1_000 tune and 10_000 draw iterations (4_000 + 40_000 draws total) took 10 seconds.\n",
      "There were 337 divergences after tuning. Increase `target_accept` or reparameterize.\n",
      "The acceptance probability does not match the target. It is 0.6026277442968013, but should be close to 0.8. Try to increase the number of tuning steps.\n",
      "There were 61 divergences after tuning. Increase `target_accept` or reparameterize.\n",
      "There were 2065 divergences after tuning. Increase `target_accept` or reparameterize.\n",
      "The acceptance probability does not match the target. It is 0.4577910554843688, but should be close to 0.8. Try to increase the number of tuning steps.\n",
      "There were 2135 divergences after tuning. Increase `target_accept` or reparameterize.\n",
      "The acceptance probability does not match the target. It is 0.4618500185747106, but should be close to 0.8. Try to increase the number of tuning steps.\n",
      "The rhat statistic is larger than 1.4 for some parameters. The sampler did not converge.\n",
      "The estimated number of effective samples is smaller than 200 for some parameters.\n"
     ]
    }
   ],
   "source": [
    "with m4:\n",
    "    trace4 = pm.sample(10000,step,start)"
   ]
  },
  {
   "cell_type": "code",
   "execution_count": 25,
   "metadata": {},
   "outputs": [
    {
     "data": {
      "text/html": [
       "\n",
       "    <div>\n",
       "        <style>\n",
       "            /* Turns off some styling */\n",
       "            progress {\n",
       "                /* gets rid of default border in Firefox and Opera. */\n",
       "                border: none;\n",
       "                /* Needs to be in here for Safari polyfill so background images work as expected. */\n",
       "                background-size: auto;\n",
       "            }\n",
       "            .progress-bar-interrupted, .progress-bar-interrupted::-webkit-progress-bar {\n",
       "                background: #F44336;\n",
       "            }\n",
       "        </style>\n",
       "      <progress value='40000' class='' max='40000' style='width:300px; height:20px; vertical-align: middle;'></progress>\n",
       "      100.00% [40000/40000 00:17<00:00]\n",
       "    </div>\n",
       "    "
      ],
      "text/plain": [
       "<IPython.core.display.HTML object>"
      ]
     },
     "metadata": {},
     "output_type": "display_data"
    }
   ],
   "source": [
    "with m4:\n",
    "    prior_m4 = pm.sample_prior_predictive()\n",
    "    post_m4 = pm.sample_posterior_predictive(trace4,var_names=['count'])    "
   ]
  },
  {
   "cell_type": "code",
   "execution_count": 26,
   "metadata": {},
   "outputs": [
    {
     "name": "stderr",
     "output_type": "stream",
     "text": [
      "<ipython-input-26-0175680cb91b>:4: UserWarning: FixedFormatter should only be used together with FixedLocator\n",
      "  ax[0].set_xticklabels(data.index,rotation=90)\n",
      "<ipython-input-26-0175680cb91b>:9: UserWarning: FixedFormatter should only be used together with FixedLocator\n",
      "  ax[1].set_xticklabels(data.index,rotation=90)\n"
     ]
    },
    {
     "data": {
      "image/png": "[encoded data removed]",
      "text/plain": [
       "<Figure size 1080x360 with 2 Axes>"
      ]
     },
     "metadata": {
      "needs_background": "light"
     },
     "output_type": "display_data"
    }
   ],
   "source": [
    "_,ax = plt.subplots(1,2,figsize=(15,5))\n",
    "az.plot_hdi(range(len(data)),prior_m4['count'],ax=ax[0])\n",
    "ax[0].bar(data.index,data['Count'])\n",
    "ax[0].set_xticklabels(data.index,rotation=90)\n",
    "ax[0].set_title('Actual vs. Prior predictive')\n",
    "\n",
    "az.plot_hdi(range(len(data)),post_m4['count'],ax=ax[1])\n",
    "ax[1].bar(data.index,data['Count'])\n",
    "ax[1].set_xticklabels(data.index,rotation=90)\n",
    "ax[1].set_title('Actual vs. Posterior predicted')\n",
    "\n",
    "plt.show()"
   ]
  },
  {
   "cell_type": "markdown",
   "metadata": {},
   "source": [
    "#### Model 5 - Bayesian Additive Regression Trees"
   ]
  },
  {
   "cell_type": "markdown",
   "metadata": {},
   "source": [
    "Finally, let's go Machine Learning - an overkill (and overfitting) but why not? Obviously the result is not quite satisfacory as shown below. For now, I will just leave it as is."
   ]
  },
  {
   "cell_type": "code",
   "execution_count": 27,
   "metadata": {},
   "outputs": [
    {
     "data": {
      "text/html": [
       "<div>\n",
       "<style scoped>\n",
       "    .dataframe tbody tr th:only-of-type {\n",
       "        vertical-align: middle;\n",
       "    }\n",
       "\n",
       "    .dataframe tbody tr th {\n",
       "        vertical-align: top;\n",
       "    }\n",
       "\n",
       "    .dataframe thead th {\n",
       "        text-align: right;\n",
       "    }\n",
       "</style>\n",
       "<table border=\"1\" class=\"dataframe\">\n",
       "  <thead>\n",
       "    <tr style=\"text-align: right;\">\n",
       "      <th></th>\n",
       "      <th>Day_of_week</th>\n",
       "      <th>Count</th>\n",
       "      <th>Temp_low</th>\n",
       "      <th>Temp_high</th>\n",
       "      <th>Weather</th>\n",
       "      <th>Cycle</th>\n",
       "      <th>Count_imputed</th>\n",
       "    </tr>\n",
       "    <tr>\n",
       "      <th>Date</th>\n",
       "      <th></th>\n",
       "      <th></th>\n",
       "      <th></th>\n",
       "      <th></th>\n",
       "      <th></th>\n",
       "      <th></th>\n",
       "      <th></th>\n",
       "    </tr>\n",
       "  </thead>\n",
       "  <tbody>\n",
       "    <tr>\n",
       "      <th>2022/04/12</th>\n",
       "      <td>2</td>\n",
       "      <td>NaN</td>\n",
       "      <td>0.824422</td>\n",
       "      <td>0.799151</td>\n",
       "      <td>Sunny</td>\n",
       "      <td>0.866025</td>\n",
       "      <td>NaN</td>\n",
       "    </tr>\n",
       "    <tr>\n",
       "      <th>2022/04/15</th>\n",
       "      <td>5</td>\n",
       "      <td>NaN</td>\n",
       "      <td>-0.157033</td>\n",
       "      <td>0.442387</td>\n",
       "      <td>Cloudy</td>\n",
       "      <td>0.500000</td>\n",
       "      <td>NaN</td>\n",
       "    </tr>\n",
       "    <tr>\n",
       "      <th>2022/04/19</th>\n",
       "      <td>2</td>\n",
       "      <td>NaN</td>\n",
       "      <td>-1.138488</td>\n",
       "      <td>-1.341432</td>\n",
       "      <td>Cloudy</td>\n",
       "      <td>0.866025</td>\n",
       "      <td>NaN</td>\n",
       "    </tr>\n",
       "    <tr>\n",
       "      <th>2022/04/21</th>\n",
       "      <td>4</td>\n",
       "      <td>NaN</td>\n",
       "      <td>-0.157033</td>\n",
       "      <td>-0.627904</td>\n",
       "      <td>Rainy</td>\n",
       "      <td>0.866025</td>\n",
       "      <td>NaN</td>\n",
       "    </tr>\n",
       "    <tr>\n",
       "      <th>2022/04/22</th>\n",
       "      <td>5</td>\n",
       "      <td>NaN</td>\n",
       "      <td>-0.157033</td>\n",
       "      <td>0.085623</td>\n",
       "      <td>Sunny</td>\n",
       "      <td>0.500000</td>\n",
       "      <td>NaN</td>\n",
       "    </tr>\n",
       "    <tr>\n",
       "      <th>2022/05/03</th>\n",
       "      <td>2</td>\n",
       "      <td>NaN</td>\n",
       "      <td>0.497270</td>\n",
       "      <td>0.085623</td>\n",
       "      <td>Cloudy</td>\n",
       "      <td>0.866025</td>\n",
       "      <td>NaN</td>\n",
       "    </tr>\n",
       "    <tr>\n",
       "      <th>2022/05/04</th>\n",
       "      <td>3</td>\n",
       "      <td>NaN</td>\n",
       "      <td>1.805877</td>\n",
       "      <td>1.869443</td>\n",
       "      <td>Cloudy</td>\n",
       "      <td>1.000000</td>\n",
       "      <td>NaN</td>\n",
       "    </tr>\n",
       "    <tr>\n",
       "      <th>2022/05/05</th>\n",
       "      <td>4</td>\n",
       "      <td>NaN</td>\n",
       "      <td>1.478725</td>\n",
       "      <td>1.155915</td>\n",
       "      <td>Sunny</td>\n",
       "      <td>0.866025</td>\n",
       "      <td>NaN</td>\n",
       "    </tr>\n",
       "    <tr>\n",
       "      <th>2022/05/06</th>\n",
       "      <td>5</td>\n",
       "      <td>NaN</td>\n",
       "      <td>0.824422</td>\n",
       "      <td>0.799151</td>\n",
       "      <td>Cloudy</td>\n",
       "      <td>0.500000</td>\n",
       "      <td>NaN</td>\n",
       "    </tr>\n",
       "    <tr>\n",
       "      <th>2022/05/09</th>\n",
       "      <td>1</td>\n",
       "      <td>NaN</td>\n",
       "      <td>1.478725</td>\n",
       "      <td>0.799151</td>\n",
       "      <td>Sunny</td>\n",
       "      <td>0.500000</td>\n",
       "      <td>NaN</td>\n",
       "    </tr>\n",
       "  </tbody>\n",
       "</table>\n",
       "</div>"
      ],
      "text/plain": [
       "            Day_of_week  Count  Temp_low  Temp_high Weather     Cycle  \\\n",
       "Date                                                                    \n",
       "2022/04/12            2    NaN  0.824422   0.799151   Sunny  0.866025   \n",
       "2022/04/15            5    NaN -0.157033   0.442387  Cloudy  0.500000   \n",
       "2022/04/19            2    NaN -1.138488  -1.341432  Cloudy  0.866025   \n",
       "2022/04/21            4    NaN -0.157033  -0.627904   Rainy  0.866025   \n",
       "2022/04/22            5    NaN -0.157033   0.085623   Sunny  0.500000   \n",
       "2022/05/03            2    NaN  0.497270   0.085623  Cloudy  0.866025   \n",
       "2022/05/04            3    NaN  1.805877   1.869443  Cloudy  1.000000   \n",
       "2022/05/05            4    NaN  1.478725   1.155915   Sunny  0.866025   \n",
       "2022/05/06            5    NaN  0.824422   0.799151  Cloudy  0.500000   \n",
       "2022/05/09            1    NaN  1.478725   0.799151   Sunny  0.500000   \n",
       "\n",
       "            Count_imputed  \n",
       "Date                       \n",
       "2022/04/12            NaN  \n",
       "2022/04/15            NaN  \n",
       "2022/04/19            NaN  \n",
       "2022/04/21            NaN  \n",
       "2022/04/22            NaN  \n",
       "2022/05/03            NaN  \n",
       "2022/05/04            NaN  \n",
       "2022/05/05            NaN  \n",
       "2022/05/06            NaN  \n",
       "2022/05/09            NaN  "
      ]
     },
     "execution_count": 27,
     "metadata": {},
     "output_type": "execute_result"
    }
   ],
   "source": [
    "data['Count_imputed']=data['Count']\n",
    "data[data['Count'].isnull()]"
   ]
  },
  {
   "cell_type": "code",
   "execution_count": 28,
   "metadata": {},
   "outputs": [],
   "source": [
    "# use imputed mean from model 3 above\n",
    "data.at['2022/04/12','Count_imputed']=188\n",
    "data.at['2022/04/15','Count_imputed']=68\n",
    "data.at['2022/04/19','Count_imputed']=161\n",
    "data.at['2022/04/21','Count_imputed']=142\n",
    "data.at['2022/04/22','Count_imputed']=66"
   ]
  },
  {
   "cell_type": "code",
   "execution_count": 29,
   "metadata": {},
   "outputs": [],
   "source": [
    "X=np.vstack([day_of_week_idxs[:20],data['Temp_high'][:20]]).T\n",
    "Y=data['Count_imputed'][:20]"
   ]
  },
  {
   "cell_type": "code",
   "execution_count": 30,
   "metadata": {},
   "outputs": [
    {
     "data": {
      "image/svg+xml": [
       "<?xml version=\"1.0\" encoding=\"UTF-8\" standalone=\"no\"?>\n",
       "<!DOCTYPE svg PUBLIC \"-//W3C//DTD SVG 1.1//EN\"\n",
       " \"http://www.w3.org/Graphics/SVG/1.1/DTD/svg11.dtd\">\n",
       "<!-- Generated by graphviz version 2.43.0 (0)\n",
       " -->\n",
       "<!-- Title: %3 Pages: 1 -->\n",
       "<svg width=\"352pt\" height=\"249pt\"\n",
       " viewBox=\"0.00 0.00 352.00 248.91\" xmlns=\"http://www.w3.org/2000/svg\" xmlns:xlink=\"http://www.w3.org/1999/xlink\">\n",
       "<g id=\"graph0\" class=\"graph\" transform=\"scale(1 1) rotate(0) translate(4 244.91)\">\n",
       "<title>%3</title>\n",
       "<polygon fill=\"white\" stroke=\"transparent\" points=\"-4,4 -4,-244.91 348,-244.91 348,4 -4,4\"/>\n",
       "<g id=\"clust1\" class=\"cluster\">\n",
       "<title>cluster20</title>\n",
       "<path fill=\"none\" stroke=\"black\" d=\"M20,-8C20,-8 324,-8 324,-8 330,-8 336,-14 336,-20 336,-20 336,-220.91 336,-220.91 336,-226.91 330,-232.91 324,-232.91 324,-232.91 20,-232.91 20,-232.91 14,-232.91 8,-226.91 8,-220.91 8,-220.91 8,-20 8,-20 8,-14 14,-8 20,-8\"/>\n",
       "<text text-anchor=\"middle\" x=\"318.5\" y=\"-15.8\" font-family=\"Times,serif\" font-size=\"14.00\">20</text>\n",
       "</g>\n",
       "<!-- μ -->\n",
       "<g id=\"node1\" class=\"node\">\n",
       "<title>μ</title>\n",
       "<ellipse fill=\"none\" stroke=\"black\" cx=\"172\" cy=\"-187.43\" rx=\"155.63\" ry=\"37.45\"/>\n",
       "<text text-anchor=\"middle\" x=\"172\" y=\"-198.73\" font-family=\"Times,serif\" font-size=\"14.00\">μ</text>\n",
       "<text text-anchor=\"middle\" x=\"172\" y=\"-183.73\" font-family=\"Times,serif\" font-size=\"14.00\">~</text>\n",
       "<text text-anchor=\"middle\" x=\"172\" y=\"-168.73\" font-family=\"Times,serif\" font-size=\"14.00\">BART(alpha = 0.25, m = 20)</text>\n",
       "</g>\n",
       "<!-- count -->\n",
       "<g id=\"node2\" class=\"node\">\n",
       "<title>count</title>\n",
       "<ellipse fill=\"lightgrey\" stroke=\"black\" cx=\"172\" cy=\"-76.48\" rx=\"50.41\" ry=\"37.45\"/>\n",
       "<text text-anchor=\"middle\" x=\"172\" y=\"-87.78\" font-family=\"Times,serif\" font-size=\"14.00\">count</text>\n",
       "<text text-anchor=\"middle\" x=\"172\" y=\"-72.78\" font-family=\"Times,serif\" font-size=\"14.00\">~</text>\n",
       "<text text-anchor=\"middle\" x=\"172\" y=\"-57.78\" font-family=\"Times,serif\" font-size=\"14.00\">Poisson</text>\n",
       "</g>\n",
       "<!-- μ&#45;&gt;count -->\n",
       "<g id=\"edge1\" class=\"edge\">\n",
       "<title>μ&#45;&gt;count</title>\n",
       "<path fill=\"none\" stroke=\"black\" d=\"M172,-149.85C172,-141.67 172,-132.89 172,-124.37\"/>\n",
       "<polygon fill=\"black\" stroke=\"black\" points=\"175.5,-124.15 172,-114.15 168.5,-124.15 175.5,-124.15\"/>\n",
       "</g>\n",
       "</g>\n",
       "</svg>\n"
      ],
      "text/plain": [
       "<graphviz.graphs.Digraph at 0x7fa297a50460>"
      ]
     },
     "execution_count": 30,
     "metadata": {},
     "output_type": "execute_result"
    }
   ],
   "source": [
    "with pm.Model() as m5:\n",
    "    μ = pm.BART(\"μ\", X, Y, m=20)\n",
    "    count = pm.Poisson(\"count\", pm.math.exp(μ), observed=Y,testval=150)\n",
    "pm.model_graph.model_to_graphviz(m5)"
   ]
  },
  {
   "cell_type": "code",
   "execution_count": 31,
   "metadata": {},
   "outputs": [
    {
     "name": "stderr",
     "output_type": "stream",
     "text": [
      "The BART model is experimental. Use with caution.\n",
      "Multiprocess sampling (4 chains in 4 jobs)\n",
      "PGBART: [μ]\n"
     ]
    },
    {
     "data": {
      "text/html": [
       "\n",
       "    <div>\n",
       "        <style>\n",
       "            /* Turns off some styling */\n",
       "            progress {\n",
       "                /* gets rid of default border in Firefox and Opera. */\n",
       "                border: none;\n",
       "                /* Needs to be in here for Safari polyfill so background images work as expected. */\n",
       "                background-size: auto;\n",
       "            }\n",
       "            .progress-bar-interrupted, .progress-bar-interrupted::-webkit-progress-bar {\n",
       "                background: #F44336;\n",
       "            }\n",
       "        </style>\n",
       "      <progress value='44000' class='' max='44000' style='width:300px; height:20px; vertical-align: middle;'></progress>\n",
       "      100.00% [44000/44000 00:26<00:00 Sampling 4 chains, 0 divergences]\n",
       "    </div>\n",
       "    "
      ],
      "text/plain": [
       "<IPython.core.display.HTML object>"
      ]
     },
     "metadata": {},
     "output_type": "display_data"
    },
    {
     "name": "stderr",
     "output_type": "stream",
     "text": [
      "Sampling 4 chains for 1_000 tune and 10_000 draw iterations (4_000 + 40_000 draws total) took 26 seconds.\n",
      "The number of effective samples is smaller than 10% for some parameters.\n"
     ]
    }
   ],
   "source": [
    "with m5:\n",
    "    trace5=pm.sample(10000)"
   ]
  },
  {
   "cell_type": "code",
   "execution_count": 32,
   "metadata": {},
   "outputs": [
    {
     "name": "stderr",
     "output_type": "stream",
     "text": [
      "<ipython-input-32-88292d31bb18>:4: UserWarning: FixedFormatter should only be used together with FixedLocator\n",
      "  ax.set_xticklabels(data.index,rotation=90)\n"
     ]
    },
    {
     "data": {
      "image/png": "[encoded data removed]",
      "text/plain": [
       "<Figure size 720x360 with 1 Axes>"
      ]
     },
     "metadata": {
      "needs_background": "light"
     },
     "output_type": "display_data"
    }
   ],
   "source": [
    "_,ax = plt.subplots(1,1,figsize=(10,5))\n",
    "ax.plot(trace5['μ'].mean(axis=0),color='r')\n",
    "ax.bar(data.index,data['Count'])\n",
    "ax.set_xticklabels(data.index,rotation=90)\n",
    "ax.set_title('Actual vs. Prior predictive')\n",
    "plt.show()"
   ]
  },
  {
   "cell_type": "markdown",
   "metadata": {},
   "source": [
    "### Validation"
   ]
  },
  {
   "cell_type": "markdown",
   "metadata": {},
   "source": [
    "Finally the first three models above are validated by comparing their posterior predictions to the testing data (the last 5 data points). Model 3 outperforms the other two in the testing data validation.\n",
    "\n",
    "The built-in cross validation of the models seem to have some issues due to the robustness of the estimation or highly influencial data points. This should be investigated further."
   ]
  },
  {
   "cell_type": "code",
   "execution_count": 33,
   "metadata": {},
   "outputs": [],
   "source": [
    "data['Count for testing']=np.nan\n",
    "data.iloc[-5:,-1]=np.array([152,235,171,59,104])"
   ]
  },
  {
   "cell_type": "code",
   "execution_count": 34,
   "metadata": {},
   "outputs": [
    {
     "name": "stderr",
     "output_type": "stream",
     "text": [
      "<ipython-input-34-448948b435e9>:6: UserWarning: FixedFormatter should only be used together with FixedLocator\n",
      "  ax[0].set_xticklabels(data.index,rotation=90)\n",
      "<ipython-input-34-448948b435e9>:14: UserWarning: FixedFormatter should only be used together with FixedLocator\n",
      "  ax[1].set_xticklabels(data.index,rotation=90)\n",
      "<ipython-input-34-448948b435e9>:21: UserWarning: FixedFormatter should only be used together with FixedLocator\n",
      "  ax[2].set_xticklabels(data.index,rotation=90)\n"
     ]
    },
    {
     "data": {
      "image/png": "[encoded data removed]",
      "text/plain": [
       "<Figure size 1296x360 with 3 Axes>"
      ]
     },
     "metadata": {
      "needs_background": "light"
     },
     "output_type": "display_data"
    }
   ],
   "source": [
    "_,ax = plt.subplots(1,3,figsize=(18,5))\n",
    "az.plot_hdi(range(len(data)),post_m1['count'],ax=ax[0])\n",
    "ax[0].plot(data.index,post_m1['count'].mean(axis=0),color='w',label='Mean prediction')\n",
    "ax[0].bar(data.index,data['Count'],label='Actual count (training)')\n",
    "ax[0].bar(data.index,data['Count for testing'],label='Actual count (testing)')\n",
    "ax[0].set_xticklabels(data.index,rotation=90)\n",
    "ax[0].set_title('Actual vs. posterior predictive - Model 1')\n",
    "ax[0].legend(loc=9)\n",
    "\n",
    "az.plot_hdi(range(len(data)),post_m2['count'],ax=ax[1])\n",
    "ax[1].plot(data.index,post_m2['count'].mean(axis=0),color='w')\n",
    "ax[1].bar(data.index,data['Count'])\n",
    "ax[1].bar(data.index,data['Count for testing'])\n",
    "ax[1].set_xticklabels(data.index,rotation=90)\n",
    "ax[1].set_title('Actual vs. predictive - Model 2')\n",
    "\n",
    "az.plot_hdi(range(len(data)),post_m3['count'],ax=ax[2])\n",
    "ax[2].plot(data.index,post_m3['count'].mean(axis=0),color='w')\n",
    "ax[2].bar(data.index,data['Count'])\n",
    "ax[2].bar(data.index,data['Count for testing'])\n",
    "ax[2].set_xticklabels(data.index,rotation=90)\n",
    "ax[2].set_title('Actual vs. predictive - Model 3')\n",
    "\n",
    "plt.show()"
   ]
  },
  {
   "cell_type": "code",
   "execution_count": 35,
   "metadata": {},
   "outputs": [
    {
     "name": "stderr",
     "output_type": "stream",
     "text": [
      "/home/john/anaconda3/lib/python3.8/site-packages/arviz/stats/stats.py:146: UserWarning: The default method used to estimate the weights for each model,has changed from BB-pseudo-BMA to stacking\n",
      "  warnings.warn(\n",
      "/home/john/anaconda3/lib/python3.8/site-packages/arviz/stats/stats.py:913: RuntimeWarning: overflow encountered in exp\n",
      "  weights = 1 / np.exp(len_scale - len_scale[:, None]).sum(axis=1)\n",
      "/home/john/.local/lib/python3.8/site-packages/numpy/core/_methods.py:38: RuntimeWarning: overflow encountered in reduce\n",
      "  return umr_sum(a, axis, dtype, out, keepdims, initial, where)\n",
      "/home/john/anaconda3/lib/python3.8/site-packages/arviz/stats/stats.py:692: UserWarning: Estimated shape parameter of Pareto distribution is greater than 0.7 for one or more samples. You should consider using a more robust model, this is because importance sampling is less likely to work well if the marginal posterior and LOO posterior are very different. This is more likely to happen with a non-robust model and highly influential observations.\n",
      "  warnings.warn(\n",
      "/home/john/anaconda3/lib/python3.8/site-packages/arviz/stats/stats.py:913: RuntimeWarning: overflow encountered in exp\n",
      "  weights = 1 / np.exp(len_scale - len_scale[:, None]).sum(axis=1)\n",
      "/home/john/anaconda3/lib/python3.8/site-packages/arviz/stats/stats.py:692: UserWarning: Estimated shape parameter of Pareto distribution is greater than 0.7 for one or more samples. You should consider using a more robust model, this is because importance sampling is less likely to work well if the marginal posterior and LOO posterior are very different. This is more likely to happen with a non-robust model and highly influential observations.\n",
      "  warnings.warn(\n"
     ]
    },
    {
     "data": {
      "text/html": [
       "<div>\n",
       "<style scoped>\n",
       "    .dataframe tbody tr th:only-of-type {\n",
       "        vertical-align: middle;\n",
       "    }\n",
       "\n",
       "    .dataframe tbody tr th {\n",
       "        vertical-align: top;\n",
       "    }\n",
       "\n",
       "    .dataframe thead th {\n",
       "        text-align: right;\n",
       "    }\n",
       "</style>\n",
       "<table border=\"1\" class=\"dataframe\">\n",
       "  <thead>\n",
       "    <tr style=\"text-align: right;\">\n",
       "      <th></th>\n",
       "      <th>rank</th>\n",
       "      <th>loo</th>\n",
       "      <th>p_loo</th>\n",
       "      <th>d_loo</th>\n",
       "      <th>weight</th>\n",
       "      <th>se</th>\n",
       "      <th>dse</th>\n",
       "      <th>warning</th>\n",
       "      <th>loo_scale</th>\n",
       "    </tr>\n",
       "  </thead>\n",
       "  <tbody>\n",
       "    <tr>\n",
       "      <th>model 2</th>\n",
       "      <td>0</td>\n",
       "      <td>NaN</td>\n",
       "      <td>NaN</td>\n",
       "      <td>NaN</td>\n",
       "      <td>0.5</td>\n",
       "      <td>NaN</td>\n",
       "      <td>NaN</td>\n",
       "      <td>True</td>\n",
       "      <td>log</td>\n",
       "    </tr>\n",
       "    <tr>\n",
       "      <th>model 3</th>\n",
       "      <td>1</td>\n",
       "      <td>NaN</td>\n",
       "      <td>NaN</td>\n",
       "      <td>NaN</td>\n",
       "      <td>0.5</td>\n",
       "      <td>NaN</td>\n",
       "      <td>NaN</td>\n",
       "      <td>True</td>\n",
       "      <td>log</td>\n",
       "    </tr>\n",
       "  </tbody>\n",
       "</table>\n",
       "</div>"
      ],
      "text/plain": [
       "         rank  loo  p_loo  d_loo  weight  se  dse  warning loo_scale\n",
       "model 2     0  NaN    NaN    NaN     0.5 NaN  NaN     True       log\n",
       "model 3     1  NaN    NaN    NaN     0.5 NaN  NaN     True       log"
      ]
     },
     "execution_count": 35,
     "metadata": {},
     "output_type": "execute_result"
    }
   ],
   "source": [
    "az.compare({'model 2':trace2,\"model 3\":trace3})"
   ]
  },
  {
   "cell_type": "markdown",
   "metadata": {},
   "source": [
    "### Conclusion and Next Step"
   ]
  },
  {
   "cell_type": "markdown",
   "metadata": {},
   "source": [
    "The first three simple GLM-type Bayesian models above seem to do a decent job describing the car counts data. The \"seasonality\" pattern is quite significant as well as the trend factor (even though not material). Negative Binomial distribution appears to be superior to Poisson distribution, which does not produce enough volality in the model compared to the actual data. \n",
    "\n",
    "Compared to the \"frequenist\" approach, Bayesian modeling has the benefit of:\n",
    "1. Modeling flexibility: different type of statistical distributions or deterministic functions can be combined freely, without the need to having to choose among pre-packaged statistical/econometric models.\n",
    "2. Automatic quantification of uncertainty including uncertainty of each paramter and combination of them e.g. final prediction\n",
    "3. Ability to add prior knowledge, which some believe to be a downside instead. The degree of belief in the prior knowledge can be specified with either diffuse priori (minimal prior knowledge) or more informative priori (stronger prior knowledge) or anywhere in between. In this example, I am pretty sure the number of cars can not exceed 2000, which is the limit of the parking lot, so why would I not take that information to help the modeling especially given the limited observations. \n",
    "4. Other benefits such as more consistent cross validation, comparison of different models (using WAIC rather than AIC/BIC and LOO/PLOO) and automatic imputation of missing data.\n",
    "\n",
    "The validation process should be further investigated, but it appears the samll number of observations, potentially highly influencial data points along with missing data are causes of the cross validation diagnostic not being produced. "
   ]
  },
  {
   "cell_type": "code",
   "execution_count": 36,
   "metadata": {},
   "outputs": [
    {
     "data": {
      "image/png": "[encoded data removed]",
      "text/plain": [
       "<Figure size 432x288 with 1 Axes>"
      ]
     },
     "metadata": {
      "needs_background": "light"
     },
     "output_type": "display_data"
    }
   ],
   "source": [
    "az.plot_hdi(range(len(data)),post_m1['count'],color='C0')\n",
    "az.plot_hdi(range(len(data)),post_m2['count'],color='C1')\n",
    "az.plot_hdi(range(len(data)),post_m3['count'],color='C2',fill_kwargs={\"alpha\": .2})\n",
    "plt.bar(range(len(data)),data['Count'],alpha=0.5)\n",
    "plt.bar(range(len(data)),data['Count for testing'],alpha=0.5)\n",
    "plt.xticks(range(len(data)),labels=data.index,rotation=90)\n",
    "plt.title('Actual count vs posterior prediction')\n",
    "plt.savefig('Bayesian posterior predictive.png',dpi=300)"
   ]
  },
  {
   "cell_type": "code",
   "execution_count": null,
   "metadata": {},
   "outputs": [],
   "source": []
  }
 ],
 "metadata": {
  "kernelspec": {
   "display_name": "Python 3",
   "language": "python",
   "name": "python3"
  },
  "language_info": {
   "codemirror_mode": {
    "name": "ipython",
    "version": 3
   },
   "file_extension": ".py",
   "mimetype": "text/x-python",
   "name": "python",
   "nbconvert_exporter": "python",
   "pygments_lexer": "ipython3",
   "version": "3.8.5"
  }
 },
 "nbformat": 4,
 "nbformat_minor": 4
}
